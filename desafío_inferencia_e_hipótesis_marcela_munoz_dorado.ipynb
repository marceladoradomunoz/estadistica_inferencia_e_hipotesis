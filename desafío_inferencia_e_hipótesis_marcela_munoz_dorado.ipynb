{
  "nbformat": 4,
  "nbformat_minor": 0,
  "metadata": {
    "colab": {
      "provenance": [],
      "collapsed_sections": [
        "PUxNZetwWCUN",
        "TV8iqy0Bad4o",
        "14vKNJz9P2f3",
        "QHrXlisxhlab",
        "tkDFAyRTcBhn",
        "uk_bBwRx5aGJ",
        "DhoYlp0wWOr5"
      ]
    },
    "kernelspec": {
      "name": "python3",
      "display_name": "Python 3"
    },
    "language_info": {
      "name": "python"
    }
  },
  "cells": [
    {
      "cell_type": "markdown",
      "source": [
        "# **EXPLORACIÓN DEL DATASET**.\n",
        "\n",
        "\n",
        "---\n",
        "\n"
      ],
      "metadata": {
        "id": "PUxNZetwWCUN"
      }
    },
    {
      "cell_type": "code",
      "execution_count": null,
      "metadata": {
        "colab": {
          "base_uri": "https://localhost:8080/"
        },
        "id": "eacfcW-oLXOV",
        "outputId": "5957edac-2b91-4e83-e5a1-e8f75d60b552"
      },
      "outputs": [
        {
          "output_type": "stream",
          "name": "stdout",
          "text": [
            "Requirement already satisfied: scipy in /usr/local/lib/python3.10/dist-packages (1.13.0)\n",
            "Requirement already satisfied: numpy<2.3,>=1.22.4 in /usr/local/lib/python3.10/dist-packages (from scipy) (1.25.2)\n",
            "Requirement already satisfied: scipy in /usr/local/lib/python3.10/dist-packages (1.13.0)\n",
            "Requirement already satisfied: numpy<2.3,>=1.22.4 in /usr/local/lib/python3.10/dist-packages (from scipy) (1.25.2)\n"
          ]
        }
      ],
      "source": [
        "#IMPORTACIÓN DE LIBRERÍAS\n",
        "\n",
        "import pandas as pd\n",
        "import numpy as np\n",
        "import math as math\n",
        "import seaborn as sns\n",
        "import matplotlib.pyplot as plt\n",
        "!pip install scipy\n",
        "!pip install --upgrade scipy\n",
        "import scipy.stats as st\n",
        "import scipy as sp\n",
        "from scipy import stats\n",
        "from scipy.stats import norm\n",
        "import scipy.stats as st\n",
        "from scipy.stats import binomtest\n",
        "from scipy._lib._util import _validate_int\n",
        "from scipy.optimize import brentq\n"
      ]
    },
    {
      "cell_type": "code",
      "source": [
        "#IMPORTACIÓN Y LECTURA DEL DATABASE\n",
        "\n",
        "df_earnings = pd.read_csv('earnings.csv')"
      ],
      "metadata": {
        "id": "5inZYFDnNTC0"
      },
      "execution_count": null,
      "outputs": []
    },
    {
      "cell_type": "code",
      "source": [
        "#Revisión del nombre de las columnas.\n",
        "\n",
        "df_earnings.columns"
      ],
      "metadata": {
        "colab": {
          "base_uri": "https://localhost:8080/"
        },
        "id": "QNTcrI2BOIzn",
        "outputId": "2df308c4-b4a4-462d-dc1b-8598bfd15fa4"
      },
      "execution_count": null,
      "outputs": [
        {
          "output_type": "execute_result",
          "data": {
            "text/plain": [
              "Index(['height', 'weight', 'male', 'earn', 'earnk', 'ethnicity', 'education',\n",
              "       'mother_education', 'father_education', 'walk', 'exercise', 'smokenow',\n",
              "       'tense', 'angry', 'age'],\n",
              "      dtype='object')"
            ]
          },
          "metadata": {},
          "execution_count": 108
        }
      ]
    },
    {
      "cell_type": "code",
      "source": [
        "#VISUALIZACIÓN DE LOS PRIMEROS CINCO REGISTROS DEL DATAFRAME.\n",
        "\n",
        "df_earnings.head()"
      ],
      "metadata": {
        "id": "PMHBRQ2FNwe_",
        "colab": {
          "base_uri": "https://localhost:8080/",
          "height": 221
        },
        "outputId": "fac165ae-3b61-4114-aea6-108e04b9e210"
      },
      "execution_count": null,
      "outputs": [
        {
          "output_type": "execute_result",
          "data": {
            "text/plain": [
              "   height  weight  male     earn  earnk ethnicity  education  \\\n",
              "0      74   210.0     1  50000.0   50.0     White       16.0   \n",
              "1      66   125.0     0  60000.0   60.0     White       16.0   \n",
              "2      64   126.0     0  30000.0   30.0     White       16.0   \n",
              "3      65   200.0     0  25000.0   25.0     White       17.0   \n",
              "4      63   110.0     0  50000.0   50.0     Other       16.0   \n",
              "\n",
              "   mother_education  father_education  walk  exercise  smokenow  tense  angry  \\\n",
              "0              16.0              16.0     3         3       2.0    0.0    0.0   \n",
              "1              16.0              16.0     6         5       1.0    0.0    0.0   \n",
              "2              16.0              16.0     8         1       2.0    1.0    1.0   \n",
              "3              17.0               NaN     8         1       2.0    0.0    0.0   \n",
              "4              16.0              16.0     5         6       2.0    0.0    0.0   \n",
              "\n",
              "   age  \n",
              "0   45  \n",
              "1   58  \n",
              "2   29  \n",
              "3   57  \n",
              "4   91  "
            ],
            "text/html": [
              "\n",
              "  <div id=\"df-11d7ed55-7779-4a05-ada6-5bb726017bc7\" class=\"colab-df-container\">\n",
              "    <div>\n",
              "<style scoped>\n",
              "    .dataframe tbody tr th:only-of-type {\n",
              "        vertical-align: middle;\n",
              "    }\n",
              "\n",
              "    .dataframe tbody tr th {\n",
              "        vertical-align: top;\n",
              "    }\n",
              "\n",
              "    .dataframe thead th {\n",
              "        text-align: right;\n",
              "    }\n",
              "</style>\n",
              "<table border=\"1\" class=\"dataframe\">\n",
              "  <thead>\n",
              "    <tr style=\"text-align: right;\">\n",
              "      <th></th>\n",
              "      <th>height</th>\n",
              "      <th>weight</th>\n",
              "      <th>male</th>\n",
              "      <th>earn</th>\n",
              "      <th>earnk</th>\n",
              "      <th>ethnicity</th>\n",
              "      <th>education</th>\n",
              "      <th>mother_education</th>\n",
              "      <th>father_education</th>\n",
              "      <th>walk</th>\n",
              "      <th>exercise</th>\n",
              "      <th>smokenow</th>\n",
              "      <th>tense</th>\n",
              "      <th>angry</th>\n",
              "      <th>age</th>\n",
              "    </tr>\n",
              "  </thead>\n",
              "  <tbody>\n",
              "    <tr>\n",
              "      <th>0</th>\n",
              "      <td>74</td>\n",
              "      <td>210.0</td>\n",
              "      <td>1</td>\n",
              "      <td>50000.0</td>\n",
              "      <td>50.0</td>\n",
              "      <td>White</td>\n",
              "      <td>16.0</td>\n",
              "      <td>16.0</td>\n",
              "      <td>16.0</td>\n",
              "      <td>3</td>\n",
              "      <td>3</td>\n",
              "      <td>2.0</td>\n",
              "      <td>0.0</td>\n",
              "      <td>0.0</td>\n",
              "      <td>45</td>\n",
              "    </tr>\n",
              "    <tr>\n",
              "      <th>1</th>\n",
              "      <td>66</td>\n",
              "      <td>125.0</td>\n",
              "      <td>0</td>\n",
              "      <td>60000.0</td>\n",
              "      <td>60.0</td>\n",
              "      <td>White</td>\n",
              "      <td>16.0</td>\n",
              "      <td>16.0</td>\n",
              "      <td>16.0</td>\n",
              "      <td>6</td>\n",
              "      <td>5</td>\n",
              "      <td>1.0</td>\n",
              "      <td>0.0</td>\n",
              "      <td>0.0</td>\n",
              "      <td>58</td>\n",
              "    </tr>\n",
              "    <tr>\n",
              "      <th>2</th>\n",
              "      <td>64</td>\n",
              "      <td>126.0</td>\n",
              "      <td>0</td>\n",
              "      <td>30000.0</td>\n",
              "      <td>30.0</td>\n",
              "      <td>White</td>\n",
              "      <td>16.0</td>\n",
              "      <td>16.0</td>\n",
              "      <td>16.0</td>\n",
              "      <td>8</td>\n",
              "      <td>1</td>\n",
              "      <td>2.0</td>\n",
              "      <td>1.0</td>\n",
              "      <td>1.0</td>\n",
              "      <td>29</td>\n",
              "    </tr>\n",
              "    <tr>\n",
              "      <th>3</th>\n",
              "      <td>65</td>\n",
              "      <td>200.0</td>\n",
              "      <td>0</td>\n",
              "      <td>25000.0</td>\n",
              "      <td>25.0</td>\n",
              "      <td>White</td>\n",
              "      <td>17.0</td>\n",
              "      <td>17.0</td>\n",
              "      <td>NaN</td>\n",
              "      <td>8</td>\n",
              "      <td>1</td>\n",
              "      <td>2.0</td>\n",
              "      <td>0.0</td>\n",
              "      <td>0.0</td>\n",
              "      <td>57</td>\n",
              "    </tr>\n",
              "    <tr>\n",
              "      <th>4</th>\n",
              "      <td>63</td>\n",
              "      <td>110.0</td>\n",
              "      <td>0</td>\n",
              "      <td>50000.0</td>\n",
              "      <td>50.0</td>\n",
              "      <td>Other</td>\n",
              "      <td>16.0</td>\n",
              "      <td>16.0</td>\n",
              "      <td>16.0</td>\n",
              "      <td>5</td>\n",
              "      <td>6</td>\n",
              "      <td>2.0</td>\n",
              "      <td>0.0</td>\n",
              "      <td>0.0</td>\n",
              "      <td>91</td>\n",
              "    </tr>\n",
              "  </tbody>\n",
              "</table>\n",
              "</div>\n",
              "    <div class=\"colab-df-buttons\">\n",
              "\n",
              "  <div class=\"colab-df-container\">\n",
              "    <button class=\"colab-df-convert\" onclick=\"convertToInteractive('df-11d7ed55-7779-4a05-ada6-5bb726017bc7')\"\n",
              "            title=\"Convert this dataframe to an interactive table.\"\n",
              "            style=\"display:none;\">\n",
              "\n",
              "  <svg xmlns=\"http://www.w3.org/2000/svg\" height=\"24px\" viewBox=\"0 -960 960 960\">\n",
              "    <path d=\"M120-120v-720h720v720H120Zm60-500h600v-160H180v160Zm220 220h160v-160H400v160Zm0 220h160v-160H400v160ZM180-400h160v-160H180v160Zm440 0h160v-160H620v160ZM180-180h160v-160H180v160Zm440 0h160v-160H620v160Z\"/>\n",
              "  </svg>\n",
              "    </button>\n",
              "\n",
              "  <style>\n",
              "    .colab-df-container {\n",
              "      display:flex;\n",
              "      gap: 12px;\n",
              "    }\n",
              "\n",
              "    .colab-df-convert {\n",
              "      background-color: #E8F0FE;\n",
              "      border: none;\n",
              "      border-radius: 50%;\n",
              "      cursor: pointer;\n",
              "      display: none;\n",
              "      fill: #1967D2;\n",
              "      height: 32px;\n",
              "      padding: 0 0 0 0;\n",
              "      width: 32px;\n",
              "    }\n",
              "\n",
              "    .colab-df-convert:hover {\n",
              "      background-color: #E2EBFA;\n",
              "      box-shadow: 0px 1px 2px rgba(60, 64, 67, 0.3), 0px 1px 3px 1px rgba(60, 64, 67, 0.15);\n",
              "      fill: #174EA6;\n",
              "    }\n",
              "\n",
              "    .colab-df-buttons div {\n",
              "      margin-bottom: 4px;\n",
              "    }\n",
              "\n",
              "    [theme=dark] .colab-df-convert {\n",
              "      background-color: #3B4455;\n",
              "      fill: #D2E3FC;\n",
              "    }\n",
              "\n",
              "    [theme=dark] .colab-df-convert:hover {\n",
              "      background-color: #434B5C;\n",
              "      box-shadow: 0px 1px 3px 1px rgba(0, 0, 0, 0.15);\n",
              "      filter: drop-shadow(0px 1px 2px rgba(0, 0, 0, 0.3));\n",
              "      fill: #FFFFFF;\n",
              "    }\n",
              "  </style>\n",
              "\n",
              "    <script>\n",
              "      const buttonEl =\n",
              "        document.querySelector('#df-11d7ed55-7779-4a05-ada6-5bb726017bc7 button.colab-df-convert');\n",
              "      buttonEl.style.display =\n",
              "        google.colab.kernel.accessAllowed ? 'block' : 'none';\n",
              "\n",
              "      async function convertToInteractive(key) {\n",
              "        const element = document.querySelector('#df-11d7ed55-7779-4a05-ada6-5bb726017bc7');\n",
              "        const dataTable =\n",
              "          await google.colab.kernel.invokeFunction('convertToInteractive',\n",
              "                                                    [key], {});\n",
              "        if (!dataTable) return;\n",
              "\n",
              "        const docLinkHtml = 'Like what you see? Visit the ' +\n",
              "          '<a target=\"_blank\" href=https://colab.research.google.com/notebooks/data_table.ipynb>data table notebook</a>'\n",
              "          + ' to learn more about interactive tables.';\n",
              "        element.innerHTML = '';\n",
              "        dataTable['output_type'] = 'display_data';\n",
              "        await google.colab.output.renderOutput(dataTable, element);\n",
              "        const docLink = document.createElement('div');\n",
              "        docLink.innerHTML = docLinkHtml;\n",
              "        element.appendChild(docLink);\n",
              "      }\n",
              "    </script>\n",
              "  </div>\n",
              "\n",
              "\n",
              "<div id=\"df-d1804228-17aa-4072-87f3-7bde52f7c28c\">\n",
              "  <button class=\"colab-df-quickchart\" onclick=\"quickchart('df-d1804228-17aa-4072-87f3-7bde52f7c28c')\"\n",
              "            title=\"Suggest charts\"\n",
              "            style=\"display:none;\">\n",
              "\n",
              "<svg xmlns=\"http://www.w3.org/2000/svg\" height=\"24px\"viewBox=\"0 0 24 24\"\n",
              "     width=\"24px\">\n",
              "    <g>\n",
              "        <path d=\"M19 3H5c-1.1 0-2 .9-2 2v14c0 1.1.9 2 2 2h14c1.1 0 2-.9 2-2V5c0-1.1-.9-2-2-2zM9 17H7v-7h2v7zm4 0h-2V7h2v10zm4 0h-2v-4h2v4z\"/>\n",
              "    </g>\n",
              "</svg>\n",
              "  </button>\n",
              "\n",
              "<style>\n",
              "  .colab-df-quickchart {\n",
              "      --bg-color: #E8F0FE;\n",
              "      --fill-color: #1967D2;\n",
              "      --hover-bg-color: #E2EBFA;\n",
              "      --hover-fill-color: #174EA6;\n",
              "      --disabled-fill-color: #AAA;\n",
              "      --disabled-bg-color: #DDD;\n",
              "  }\n",
              "\n",
              "  [theme=dark] .colab-df-quickchart {\n",
              "      --bg-color: #3B4455;\n",
              "      --fill-color: #D2E3FC;\n",
              "      --hover-bg-color: #434B5C;\n",
              "      --hover-fill-color: #FFFFFF;\n",
              "      --disabled-bg-color: #3B4455;\n",
              "      --disabled-fill-color: #666;\n",
              "  }\n",
              "\n",
              "  .colab-df-quickchart {\n",
              "    background-color: var(--bg-color);\n",
              "    border: none;\n",
              "    border-radius: 50%;\n",
              "    cursor: pointer;\n",
              "    display: none;\n",
              "    fill: var(--fill-color);\n",
              "    height: 32px;\n",
              "    padding: 0;\n",
              "    width: 32px;\n",
              "  }\n",
              "\n",
              "  .colab-df-quickchart:hover {\n",
              "    background-color: var(--hover-bg-color);\n",
              "    box-shadow: 0 1px 2px rgba(60, 64, 67, 0.3), 0 1px 3px 1px rgba(60, 64, 67, 0.15);\n",
              "    fill: var(--button-hover-fill-color);\n",
              "  }\n",
              "\n",
              "  .colab-df-quickchart-complete:disabled,\n",
              "  .colab-df-quickchart-complete:disabled:hover {\n",
              "    background-color: var(--disabled-bg-color);\n",
              "    fill: var(--disabled-fill-color);\n",
              "    box-shadow: none;\n",
              "  }\n",
              "\n",
              "  .colab-df-spinner {\n",
              "    border: 2px solid var(--fill-color);\n",
              "    border-color: transparent;\n",
              "    border-bottom-color: var(--fill-color);\n",
              "    animation:\n",
              "      spin 1s steps(1) infinite;\n",
              "  }\n",
              "\n",
              "  @keyframes spin {\n",
              "    0% {\n",
              "      border-color: transparent;\n",
              "      border-bottom-color: var(--fill-color);\n",
              "      border-left-color: var(--fill-color);\n",
              "    }\n",
              "    20% {\n",
              "      border-color: transparent;\n",
              "      border-left-color: var(--fill-color);\n",
              "      border-top-color: var(--fill-color);\n",
              "    }\n",
              "    30% {\n",
              "      border-color: transparent;\n",
              "      border-left-color: var(--fill-color);\n",
              "      border-top-color: var(--fill-color);\n",
              "      border-right-color: var(--fill-color);\n",
              "    }\n",
              "    40% {\n",
              "      border-color: transparent;\n",
              "      border-right-color: var(--fill-color);\n",
              "      border-top-color: var(--fill-color);\n",
              "    }\n",
              "    60% {\n",
              "      border-color: transparent;\n",
              "      border-right-color: var(--fill-color);\n",
              "    }\n",
              "    80% {\n",
              "      border-color: transparent;\n",
              "      border-right-color: var(--fill-color);\n",
              "      border-bottom-color: var(--fill-color);\n",
              "    }\n",
              "    90% {\n",
              "      border-color: transparent;\n",
              "      border-bottom-color: var(--fill-color);\n",
              "    }\n",
              "  }\n",
              "</style>\n",
              "\n",
              "  <script>\n",
              "    async function quickchart(key) {\n",
              "      const quickchartButtonEl =\n",
              "        document.querySelector('#' + key + ' button');\n",
              "      quickchartButtonEl.disabled = true;  // To prevent multiple clicks.\n",
              "      quickchartButtonEl.classList.add('colab-df-spinner');\n",
              "      try {\n",
              "        const charts = await google.colab.kernel.invokeFunction(\n",
              "            'suggestCharts', [key], {});\n",
              "      } catch (error) {\n",
              "        console.error('Error during call to suggestCharts:', error);\n",
              "      }\n",
              "      quickchartButtonEl.classList.remove('colab-df-spinner');\n",
              "      quickchartButtonEl.classList.add('colab-df-quickchart-complete');\n",
              "    }\n",
              "    (() => {\n",
              "      let quickchartButtonEl =\n",
              "        document.querySelector('#df-d1804228-17aa-4072-87f3-7bde52f7c28c button');\n",
              "      quickchartButtonEl.style.display =\n",
              "        google.colab.kernel.accessAllowed ? 'block' : 'none';\n",
              "    })();\n",
              "  </script>\n",
              "</div>\n",
              "\n",
              "    </div>\n",
              "  </div>\n"
            ],
            "application/vnd.google.colaboratory.intrinsic+json": {
              "type": "dataframe",
              "variable_name": "df_earnings",
              "summary": "{\n  \"name\": \"df_earnings\",\n  \"rows\": 1816,\n  \"fields\": [\n    {\n      \"column\": \"height\",\n      \"properties\": {\n        \"dtype\": \"number\",\n        \"std\": 3,\n        \"min\": 57,\n        \"max\": 82,\n        \"num_unique_values\": 23,\n        \"samples\": [\n          61,\n          70,\n          74\n        ],\n        \"semantic_type\": \"\",\n        \"description\": \"\"\n      }\n    },\n    {\n      \"column\": \"weight\",\n      \"properties\": {\n        \"dtype\": \"number\",\n        \"std\": 34.617059469205266,\n        \"min\": 80.0,\n        \"max\": 342.0,\n        \"num_unique_values\": 148,\n        \"samples\": [\n          139.0,\n          215.0,\n          99.0\n        ],\n        \"semantic_type\": \"\",\n        \"description\": \"\"\n      }\n    },\n    {\n      \"column\": \"male\",\n      \"properties\": {\n        \"dtype\": \"number\",\n        \"std\": 0,\n        \"min\": 0,\n        \"max\": 1,\n        \"num_unique_values\": 2,\n        \"samples\": [\n          0,\n          1\n        ],\n        \"semantic_type\": \"\",\n        \"description\": \"\"\n      }\n    },\n    {\n      \"column\": \"earn\",\n      \"properties\": {\n        \"dtype\": \"number\",\n        \"std\": 22531.76512330289,\n        \"min\": 0.0,\n        \"max\": 400000.0,\n        \"num_unique_values\": 137,\n        \"samples\": [\n          7200.0,\n          18600.0\n        ],\n        \"semantic_type\": \"\",\n        \"description\": \"\"\n      }\n    },\n    {\n      \"column\": \"earnk\",\n      \"properties\": {\n        \"dtype\": \"number\",\n        \"std\": 22.53176512330289,\n        \"min\": 0.0,\n        \"max\": 400.0,\n        \"num_unique_values\": 137,\n        \"samples\": [\n          7.2,\n          18.6\n        ],\n        \"semantic_type\": \"\",\n        \"description\": \"\"\n      }\n    },\n    {\n      \"column\": \"ethnicity\",\n      \"properties\": {\n        \"dtype\": \"category\",\n        \"num_unique_values\": 4,\n        \"samples\": [\n          \"Other\",\n          \"Hispanic\"\n        ],\n        \"semantic_type\": \"\",\n        \"description\": \"\"\n      }\n    },\n    {\n      \"column\": \"education\",\n      \"properties\": {\n        \"dtype\": \"number\",\n        \"std\": 2.556637843200102,\n        \"min\": 2.0,\n        \"max\": 18.0,\n        \"num_unique_values\": 17,\n        \"samples\": [\n          16.0,\n          17.0\n        ],\n        \"semantic_type\": \"\",\n        \"description\": \"\"\n      }\n    },\n    {\n      \"column\": \"mother_education\",\n      \"properties\": {\n        \"dtype\": \"number\",\n        \"std\": 3.219371551381508,\n        \"min\": 3.0,\n        \"max\": 99.0,\n        \"num_unique_values\": 17,\n        \"samples\": [\n          16.0,\n          17.0\n        ],\n        \"semantic_type\": \"\",\n        \"description\": \"\"\n      }\n    },\n    {\n      \"column\": \"father_education\",\n      \"properties\": {\n        \"dtype\": \"number\",\n        \"std\": 3.2508111459043354,\n        \"min\": 3.0,\n        \"max\": 99.0,\n        \"num_unique_values\": 17,\n        \"samples\": [\n          16.0,\n          18.0\n        ],\n        \"semantic_type\": \"\",\n        \"description\": \"\"\n      }\n    },\n    {\n      \"column\": \"walk\",\n      \"properties\": {\n        \"dtype\": \"number\",\n        \"std\": 2,\n        \"min\": 1,\n        \"max\": 8,\n        \"num_unique_values\": 8,\n        \"samples\": [\n          6,\n          7\n        ],\n        \"semantic_type\": \"\",\n        \"description\": \"\"\n      }\n    },\n    {\n      \"column\": \"exercise\",\n      \"properties\": {\n        \"dtype\": \"number\",\n        \"std\": 2,\n        \"min\": 1,\n        \"max\": 7,\n        \"num_unique_values\": 7,\n        \"samples\": [\n          3,\n          5\n        ],\n        \"semantic_type\": \"\",\n        \"description\": \"\"\n      }\n    },\n    {\n      \"column\": \"smokenow\",\n      \"properties\": {\n        \"dtype\": \"number\",\n        \"std\": 0.4357254529423156,\n        \"min\": 1.0,\n        \"max\": 2.0,\n        \"num_unique_values\": 2,\n        \"samples\": [\n          1.0,\n          2.0\n        ],\n        \"semantic_type\": \"\",\n        \"description\": \"\"\n      }\n    },\n    {\n      \"column\": \"tense\",\n      \"properties\": {\n        \"dtype\": \"number\",\n        \"std\": 2.1578504637123728,\n        \"min\": 0.0,\n        \"max\": 7.0,\n        \"num_unique_values\": 8,\n        \"samples\": [\n          1.0,\n          3.0\n        ],\n        \"semantic_type\": \"\",\n        \"description\": \"\"\n      }\n    },\n    {\n      \"column\": \"angry\",\n      \"properties\": {\n        \"dtype\": \"number\",\n        \"std\": 2.1578504637123728,\n        \"min\": 0.0,\n        \"max\": 7.0,\n        \"num_unique_values\": 8,\n        \"samples\": [\n          1.0,\n          3.0\n        ],\n        \"semantic_type\": \"\",\n        \"description\": \"\"\n      }\n    },\n    {\n      \"column\": \"age\",\n      \"properties\": {\n        \"dtype\": \"number\",\n        \"std\": 17,\n        \"min\": 18,\n        \"max\": 91,\n        \"num_unique_values\": 74,\n        \"samples\": [\n          91,\n          64\n        ],\n        \"semantic_type\": \"\",\n        \"description\": \"\"\n      }\n    }\n  ]\n}"
            }
          },
          "metadata": {},
          "execution_count": 109
        }
      ]
    },
    {
      "cell_type": "code",
      "source": [
        "#Revisión del número de filas y columnas.\n",
        "\n",
        "df_earnings.shape"
      ],
      "metadata": {
        "colab": {
          "base_uri": "https://localhost:8080/"
        },
        "id": "to8lgr5jOEQ9",
        "outputId": "eaa00d31-1fe9-48ca-8c9b-26aac20fad17"
      },
      "execution_count": null,
      "outputs": [
        {
          "output_type": "execute_result",
          "data": {
            "text/plain": [
              "(1816, 15)"
            ]
          },
          "metadata": {},
          "execution_count": 110
        }
      ]
    },
    {
      "cell_type": "code",
      "source": [
        "#Revisión de los datos del dataset (valores nulos, tipo de datos, rango, índice, columnas, memoria, entre otros)\n",
        "\n",
        "df_earnings.info()"
      ],
      "metadata": {
        "colab": {
          "base_uri": "https://localhost:8080/"
        },
        "id": "I7hnMQPZOLcE",
        "outputId": "94f45e73-0750-4b60-db20-91a6f7682e43"
      },
      "execution_count": null,
      "outputs": [
        {
          "output_type": "stream",
          "name": "stdout",
          "text": [
            "<class 'pandas.core.frame.DataFrame'>\n",
            "RangeIndex: 1816 entries, 0 to 1815\n",
            "Data columns (total 15 columns):\n",
            " #   Column            Non-Null Count  Dtype  \n",
            "---  ------            --------------  -----  \n",
            " 0   height            1816 non-null   int64  \n",
            " 1   weight            1789 non-null   float64\n",
            " 2   male              1816 non-null   int64  \n",
            " 3   earn              1816 non-null   float64\n",
            " 4   earnk             1816 non-null   float64\n",
            " 5   ethnicity         1816 non-null   object \n",
            " 6   education         1814 non-null   float64\n",
            " 7   mother_education  1572 non-null   float64\n",
            " 8   father_education  1521 non-null   float64\n",
            " 9   walk              1816 non-null   int64  \n",
            " 10  exercise          1816 non-null   int64  \n",
            " 11  smokenow          1815 non-null   float64\n",
            " 12  tense             1815 non-null   float64\n",
            " 13  angry             1815 non-null   float64\n",
            " 14  age               1816 non-null   int64  \n",
            "dtypes: float64(9), int64(5), object(1)\n",
            "memory usage: 212.9+ KB\n"
          ]
        }
      ]
    },
    {
      "cell_type": "code",
      "source": [
        "#Revisión de valores del dataset.\n",
        "\n",
        "df_earnings.value_counts()"
      ],
      "metadata": {
        "colab": {
          "base_uri": "https://localhost:8080/"
        },
        "id": "scK0PpTUOTvi",
        "outputId": "6798a55f-c042-4887-e0b3-d5c48be57aa1"
      },
      "execution_count": null,
      "outputs": [
        {
          "output_type": "execute_result",
          "data": {
            "text/plain": [
              "height  weight  male  earn     earnk  ethnicity  education  mother_education  father_education  walk  exercise  smokenow  tense  angry  age\n",
              "57      130.0   0     45000.0  45.0   Hispanic   12.0       12.0              12.0              2     1         2.0       0.0    0.0    36     1\n",
              "68      170.0   1     33000.0  33.0   White      12.0       12.0              12.0              7     7         2.0       0.0    0.0    69     1\n",
              "                      24000.0  24.0   White      18.0       18.0              18.0              5     7         2.0       5.0    5.0    36     1\n",
              "                      15000.0  15.0   White      12.0       12.0              12.0              3     7         1.0       0.0    0.0    73     1\n",
              "                      5000.0   5.0    White      13.0       13.0              13.0              6     4         2.0       0.0    0.0    20     1\n",
              "                                                                                                                                              ..\n",
              "64      190.0   0     28000.0  28.0   White      16.0       16.0              16.0              3     1         2.0       5.0    5.0    39     1\n",
              "                      7000.0   7.0    White      10.0       10.0              10.0              2     1         1.0       0.0    0.0    39     1\n",
              "                      0.0      0.0    White      16.0       16.0              16.0              6     2         2.0       4.0    4.0    45     1\n",
              "        185.0   1     12000.0  12.0   White      12.0       12.0              12.0              8     1         2.0       0.0    0.0    75     1\n",
              "77      270.0   1     60000.0  60.0   White      17.0       17.0              17.0              8     2         2.0       0.0    0.0    42     1\n",
              "Name: count, Length: 1440, dtype: int64"
            ]
          },
          "metadata": {},
          "execution_count": 112
        }
      ]
    },
    {
      "cell_type": "code",
      "source": [
        "#Revision de datos nulos y suma de los mismos.\n",
        "\n",
        "df_earnings.isnull().sum()"
      ],
      "metadata": {
        "colab": {
          "base_uri": "https://localhost:8080/"
        },
        "id": "2VvBrLFuOX61",
        "outputId": "439a50dd-8c96-457d-b926-0a39640ca58e"
      },
      "execution_count": null,
      "outputs": [
        {
          "output_type": "execute_result",
          "data": {
            "text/plain": [
              "height                0\n",
              "weight               27\n",
              "male                  0\n",
              "earn                  0\n",
              "earnk                 0\n",
              "ethnicity             0\n",
              "education             2\n",
              "mother_education    244\n",
              "father_education    295\n",
              "walk                  0\n",
              "exercise              0\n",
              "smokenow              1\n",
              "tense                 1\n",
              "angry                 1\n",
              "age                   0\n",
              "dtype: int64"
            ]
          },
          "metadata": {},
          "execution_count": 113
        }
      ]
    },
    {
      "cell_type": "code",
      "source": [
        "#Descripción de las variables numéricas\n",
        "\n",
        "df_earnings.describe()"
      ],
      "metadata": {
        "colab": {
          "base_uri": "https://localhost:8080/",
          "height": 313
        },
        "id": "TNk9rCWqOn-C",
        "outputId": "7e16ecf7-f747-4186-e174-c9b6c2105a82"
      },
      "execution_count": null,
      "outputs": [
        {
          "output_type": "execute_result",
          "data": {
            "text/plain": [
              "            height       weight         male           earn        earnk  \\\n",
              "count  1816.000000  1789.000000  1816.000000    1816.000000  1816.000000   \n",
              "mean     66.568833   156.305198     0.371696   21147.296256    21.147296   \n",
              "std       3.831822    34.617059     0.483391   22531.765123    22.531765   \n",
              "min      57.000000    80.000000     0.000000       0.000000     0.000000   \n",
              "25%      64.000000   130.000000     0.000000    6000.000000     6.000000   \n",
              "50%      66.000000   150.000000     0.000000   16000.000000    16.000000   \n",
              "75%      69.250000   180.000000     1.000000   27000.000000    27.000000   \n",
              "max      82.000000   342.000000     1.000000  400000.000000   400.000000   \n",
              "\n",
              "         education  mother_education  father_education         walk  \\\n",
              "count  1814.000000       1572.000000       1521.000000  1816.000000   \n",
              "mean     13.235391         13.608779         13.652202     5.303414   \n",
              "std       2.556638          3.219372          3.250811     2.601104   \n",
              "min       2.000000          3.000000          3.000000     1.000000   \n",
              "25%      12.000000         12.000000         12.000000     3.000000   \n",
              "50%      12.000000         13.000000         13.000000     6.000000   \n",
              "75%      15.000000         16.000000         16.000000     8.000000   \n",
              "max      18.000000         99.000000         99.000000     8.000000   \n",
              "\n",
              "          exercise     smokenow        tense        angry          age  \n",
              "count  1816.000000  1815.000000  1815.000000  1815.000000  1816.000000  \n",
              "mean      3.049009     1.745455     1.421488     1.421488    42.934471  \n",
              "std       2.316385     0.435725     2.157850     2.157850    17.161672  \n",
              "min       1.000000     1.000000     0.000000     0.000000    18.000000  \n",
              "25%       1.000000     1.000000     0.000000     0.000000    29.000000  \n",
              "50%       2.000000     2.000000     0.000000     0.000000    39.000000  \n",
              "75%       5.000000     2.000000     2.000000     2.000000    56.000000  \n",
              "max       7.000000     2.000000     7.000000     7.000000    91.000000  "
            ],
            "text/html": [
              "\n",
              "  <div id=\"df-943dc6d3-e229-4100-9665-5091645cc93d\" class=\"colab-df-container\">\n",
              "    <div>\n",
              "<style scoped>\n",
              "    .dataframe tbody tr th:only-of-type {\n",
              "        vertical-align: middle;\n",
              "    }\n",
              "\n",
              "    .dataframe tbody tr th {\n",
              "        vertical-align: top;\n",
              "    }\n",
              "\n",
              "    .dataframe thead th {\n",
              "        text-align: right;\n",
              "    }\n",
              "</style>\n",
              "<table border=\"1\" class=\"dataframe\">\n",
              "  <thead>\n",
              "    <tr style=\"text-align: right;\">\n",
              "      <th></th>\n",
              "      <th>height</th>\n",
              "      <th>weight</th>\n",
              "      <th>male</th>\n",
              "      <th>earn</th>\n",
              "      <th>earnk</th>\n",
              "      <th>education</th>\n",
              "      <th>mother_education</th>\n",
              "      <th>father_education</th>\n",
              "      <th>walk</th>\n",
              "      <th>exercise</th>\n",
              "      <th>smokenow</th>\n",
              "      <th>tense</th>\n",
              "      <th>angry</th>\n",
              "      <th>age</th>\n",
              "    </tr>\n",
              "  </thead>\n",
              "  <tbody>\n",
              "    <tr>\n",
              "      <th>count</th>\n",
              "      <td>1816.000000</td>\n",
              "      <td>1789.000000</td>\n",
              "      <td>1816.000000</td>\n",
              "      <td>1816.000000</td>\n",
              "      <td>1816.000000</td>\n",
              "      <td>1814.000000</td>\n",
              "      <td>1572.000000</td>\n",
              "      <td>1521.000000</td>\n",
              "      <td>1816.000000</td>\n",
              "      <td>1816.000000</td>\n",
              "      <td>1815.000000</td>\n",
              "      <td>1815.000000</td>\n",
              "      <td>1815.000000</td>\n",
              "      <td>1816.000000</td>\n",
              "    </tr>\n",
              "    <tr>\n",
              "      <th>mean</th>\n",
              "      <td>66.568833</td>\n",
              "      <td>156.305198</td>\n",
              "      <td>0.371696</td>\n",
              "      <td>21147.296256</td>\n",
              "      <td>21.147296</td>\n",
              "      <td>13.235391</td>\n",
              "      <td>13.608779</td>\n",
              "      <td>13.652202</td>\n",
              "      <td>5.303414</td>\n",
              "      <td>3.049009</td>\n",
              "      <td>1.745455</td>\n",
              "      <td>1.421488</td>\n",
              "      <td>1.421488</td>\n",
              "      <td>42.934471</td>\n",
              "    </tr>\n",
              "    <tr>\n",
              "      <th>std</th>\n",
              "      <td>3.831822</td>\n",
              "      <td>34.617059</td>\n",
              "      <td>0.483391</td>\n",
              "      <td>22531.765123</td>\n",
              "      <td>22.531765</td>\n",
              "      <td>2.556638</td>\n",
              "      <td>3.219372</td>\n",
              "      <td>3.250811</td>\n",
              "      <td>2.601104</td>\n",
              "      <td>2.316385</td>\n",
              "      <td>0.435725</td>\n",
              "      <td>2.157850</td>\n",
              "      <td>2.157850</td>\n",
              "      <td>17.161672</td>\n",
              "    </tr>\n",
              "    <tr>\n",
              "      <th>min</th>\n",
              "      <td>57.000000</td>\n",
              "      <td>80.000000</td>\n",
              "      <td>0.000000</td>\n",
              "      <td>0.000000</td>\n",
              "      <td>0.000000</td>\n",
              "      <td>2.000000</td>\n",
              "      <td>3.000000</td>\n",
              "      <td>3.000000</td>\n",
              "      <td>1.000000</td>\n",
              "      <td>1.000000</td>\n",
              "      <td>1.000000</td>\n",
              "      <td>0.000000</td>\n",
              "      <td>0.000000</td>\n",
              "      <td>18.000000</td>\n",
              "    </tr>\n",
              "    <tr>\n",
              "      <th>25%</th>\n",
              "      <td>64.000000</td>\n",
              "      <td>130.000000</td>\n",
              "      <td>0.000000</td>\n",
              "      <td>6000.000000</td>\n",
              "      <td>6.000000</td>\n",
              "      <td>12.000000</td>\n",
              "      <td>12.000000</td>\n",
              "      <td>12.000000</td>\n",
              "      <td>3.000000</td>\n",
              "      <td>1.000000</td>\n",
              "      <td>1.000000</td>\n",
              "      <td>0.000000</td>\n",
              "      <td>0.000000</td>\n",
              "      <td>29.000000</td>\n",
              "    </tr>\n",
              "    <tr>\n",
              "      <th>50%</th>\n",
              "      <td>66.000000</td>\n",
              "      <td>150.000000</td>\n",
              "      <td>0.000000</td>\n",
              "      <td>16000.000000</td>\n",
              "      <td>16.000000</td>\n",
              "      <td>12.000000</td>\n",
              "      <td>13.000000</td>\n",
              "      <td>13.000000</td>\n",
              "      <td>6.000000</td>\n",
              "      <td>2.000000</td>\n",
              "      <td>2.000000</td>\n",
              "      <td>0.000000</td>\n",
              "      <td>0.000000</td>\n",
              "      <td>39.000000</td>\n",
              "    </tr>\n",
              "    <tr>\n",
              "      <th>75%</th>\n",
              "      <td>69.250000</td>\n",
              "      <td>180.000000</td>\n",
              "      <td>1.000000</td>\n",
              "      <td>27000.000000</td>\n",
              "      <td>27.000000</td>\n",
              "      <td>15.000000</td>\n",
              "      <td>16.000000</td>\n",
              "      <td>16.000000</td>\n",
              "      <td>8.000000</td>\n",
              "      <td>5.000000</td>\n",
              "      <td>2.000000</td>\n",
              "      <td>2.000000</td>\n",
              "      <td>2.000000</td>\n",
              "      <td>56.000000</td>\n",
              "    </tr>\n",
              "    <tr>\n",
              "      <th>max</th>\n",
              "      <td>82.000000</td>\n",
              "      <td>342.000000</td>\n",
              "      <td>1.000000</td>\n",
              "      <td>400000.000000</td>\n",
              "      <td>400.000000</td>\n",
              "      <td>18.000000</td>\n",
              "      <td>99.000000</td>\n",
              "      <td>99.000000</td>\n",
              "      <td>8.000000</td>\n",
              "      <td>7.000000</td>\n",
              "      <td>2.000000</td>\n",
              "      <td>7.000000</td>\n",
              "      <td>7.000000</td>\n",
              "      <td>91.000000</td>\n",
              "    </tr>\n",
              "  </tbody>\n",
              "</table>\n",
              "</div>\n",
              "    <div class=\"colab-df-buttons\">\n",
              "\n",
              "  <div class=\"colab-df-container\">\n",
              "    <button class=\"colab-df-convert\" onclick=\"convertToInteractive('df-943dc6d3-e229-4100-9665-5091645cc93d')\"\n",
              "            title=\"Convert this dataframe to an interactive table.\"\n",
              "            style=\"display:none;\">\n",
              "\n",
              "  <svg xmlns=\"http://www.w3.org/2000/svg\" height=\"24px\" viewBox=\"0 -960 960 960\">\n",
              "    <path d=\"M120-120v-720h720v720H120Zm60-500h600v-160H180v160Zm220 220h160v-160H400v160Zm0 220h160v-160H400v160ZM180-400h160v-160H180v160Zm440 0h160v-160H620v160ZM180-180h160v-160H180v160Zm440 0h160v-160H620v160Z\"/>\n",
              "  </svg>\n",
              "    </button>\n",
              "\n",
              "  <style>\n",
              "    .colab-df-container {\n",
              "      display:flex;\n",
              "      gap: 12px;\n",
              "    }\n",
              "\n",
              "    .colab-df-convert {\n",
              "      background-color: #E8F0FE;\n",
              "      border: none;\n",
              "      border-radius: 50%;\n",
              "      cursor: pointer;\n",
              "      display: none;\n",
              "      fill: #1967D2;\n",
              "      height: 32px;\n",
              "      padding: 0 0 0 0;\n",
              "      width: 32px;\n",
              "    }\n",
              "\n",
              "    .colab-df-convert:hover {\n",
              "      background-color: #E2EBFA;\n",
              "      box-shadow: 0px 1px 2px rgba(60, 64, 67, 0.3), 0px 1px 3px 1px rgba(60, 64, 67, 0.15);\n",
              "      fill: #174EA6;\n",
              "    }\n",
              "\n",
              "    .colab-df-buttons div {\n",
              "      margin-bottom: 4px;\n",
              "    }\n",
              "\n",
              "    [theme=dark] .colab-df-convert {\n",
              "      background-color: #3B4455;\n",
              "      fill: #D2E3FC;\n",
              "    }\n",
              "\n",
              "    [theme=dark] .colab-df-convert:hover {\n",
              "      background-color: #434B5C;\n",
              "      box-shadow: 0px 1px 3px 1px rgba(0, 0, 0, 0.15);\n",
              "      filter: drop-shadow(0px 1px 2px rgba(0, 0, 0, 0.3));\n",
              "      fill: #FFFFFF;\n",
              "    }\n",
              "  </style>\n",
              "\n",
              "    <script>\n",
              "      const buttonEl =\n",
              "        document.querySelector('#df-943dc6d3-e229-4100-9665-5091645cc93d button.colab-df-convert');\n",
              "      buttonEl.style.display =\n",
              "        google.colab.kernel.accessAllowed ? 'block' : 'none';\n",
              "\n",
              "      async function convertToInteractive(key) {\n",
              "        const element = document.querySelector('#df-943dc6d3-e229-4100-9665-5091645cc93d');\n",
              "        const dataTable =\n",
              "          await google.colab.kernel.invokeFunction('convertToInteractive',\n",
              "                                                    [key], {});\n",
              "        if (!dataTable) return;\n",
              "\n",
              "        const docLinkHtml = 'Like what you see? Visit the ' +\n",
              "          '<a target=\"_blank\" href=https://colab.research.google.com/notebooks/data_table.ipynb>data table notebook</a>'\n",
              "          + ' to learn more about interactive tables.';\n",
              "        element.innerHTML = '';\n",
              "        dataTable['output_type'] = 'display_data';\n",
              "        await google.colab.output.renderOutput(dataTable, element);\n",
              "        const docLink = document.createElement('div');\n",
              "        docLink.innerHTML = docLinkHtml;\n",
              "        element.appendChild(docLink);\n",
              "      }\n",
              "    </script>\n",
              "  </div>\n",
              "\n",
              "\n",
              "<div id=\"df-90d948c3-23b3-4b35-83d6-3ff66c741517\">\n",
              "  <button class=\"colab-df-quickchart\" onclick=\"quickchart('df-90d948c3-23b3-4b35-83d6-3ff66c741517')\"\n",
              "            title=\"Suggest charts\"\n",
              "            style=\"display:none;\">\n",
              "\n",
              "<svg xmlns=\"http://www.w3.org/2000/svg\" height=\"24px\"viewBox=\"0 0 24 24\"\n",
              "     width=\"24px\">\n",
              "    <g>\n",
              "        <path d=\"M19 3H5c-1.1 0-2 .9-2 2v14c0 1.1.9 2 2 2h14c1.1 0 2-.9 2-2V5c0-1.1-.9-2-2-2zM9 17H7v-7h2v7zm4 0h-2V7h2v10zm4 0h-2v-4h2v4z\"/>\n",
              "    </g>\n",
              "</svg>\n",
              "  </button>\n",
              "\n",
              "<style>\n",
              "  .colab-df-quickchart {\n",
              "      --bg-color: #E8F0FE;\n",
              "      --fill-color: #1967D2;\n",
              "      --hover-bg-color: #E2EBFA;\n",
              "      --hover-fill-color: #174EA6;\n",
              "      --disabled-fill-color: #AAA;\n",
              "      --disabled-bg-color: #DDD;\n",
              "  }\n",
              "\n",
              "  [theme=dark] .colab-df-quickchart {\n",
              "      --bg-color: #3B4455;\n",
              "      --fill-color: #D2E3FC;\n",
              "      --hover-bg-color: #434B5C;\n",
              "      --hover-fill-color: #FFFFFF;\n",
              "      --disabled-bg-color: #3B4455;\n",
              "      --disabled-fill-color: #666;\n",
              "  }\n",
              "\n",
              "  .colab-df-quickchart {\n",
              "    background-color: var(--bg-color);\n",
              "    border: none;\n",
              "    border-radius: 50%;\n",
              "    cursor: pointer;\n",
              "    display: none;\n",
              "    fill: var(--fill-color);\n",
              "    height: 32px;\n",
              "    padding: 0;\n",
              "    width: 32px;\n",
              "  }\n",
              "\n",
              "  .colab-df-quickchart:hover {\n",
              "    background-color: var(--hover-bg-color);\n",
              "    box-shadow: 0 1px 2px rgba(60, 64, 67, 0.3), 0 1px 3px 1px rgba(60, 64, 67, 0.15);\n",
              "    fill: var(--button-hover-fill-color);\n",
              "  }\n",
              "\n",
              "  .colab-df-quickchart-complete:disabled,\n",
              "  .colab-df-quickchart-complete:disabled:hover {\n",
              "    background-color: var(--disabled-bg-color);\n",
              "    fill: var(--disabled-fill-color);\n",
              "    box-shadow: none;\n",
              "  }\n",
              "\n",
              "  .colab-df-spinner {\n",
              "    border: 2px solid var(--fill-color);\n",
              "    border-color: transparent;\n",
              "    border-bottom-color: var(--fill-color);\n",
              "    animation:\n",
              "      spin 1s steps(1) infinite;\n",
              "  }\n",
              "\n",
              "  @keyframes spin {\n",
              "    0% {\n",
              "      border-color: transparent;\n",
              "      border-bottom-color: var(--fill-color);\n",
              "      border-left-color: var(--fill-color);\n",
              "    }\n",
              "    20% {\n",
              "      border-color: transparent;\n",
              "      border-left-color: var(--fill-color);\n",
              "      border-top-color: var(--fill-color);\n",
              "    }\n",
              "    30% {\n",
              "      border-color: transparent;\n",
              "      border-left-color: var(--fill-color);\n",
              "      border-top-color: var(--fill-color);\n",
              "      border-right-color: var(--fill-color);\n",
              "    }\n",
              "    40% {\n",
              "      border-color: transparent;\n",
              "      border-right-color: var(--fill-color);\n",
              "      border-top-color: var(--fill-color);\n",
              "    }\n",
              "    60% {\n",
              "      border-color: transparent;\n",
              "      border-right-color: var(--fill-color);\n",
              "    }\n",
              "    80% {\n",
              "      border-color: transparent;\n",
              "      border-right-color: var(--fill-color);\n",
              "      border-bottom-color: var(--fill-color);\n",
              "    }\n",
              "    90% {\n",
              "      border-color: transparent;\n",
              "      border-bottom-color: var(--fill-color);\n",
              "    }\n",
              "  }\n",
              "</style>\n",
              "\n",
              "  <script>\n",
              "    async function quickchart(key) {\n",
              "      const quickchartButtonEl =\n",
              "        document.querySelector('#' + key + ' button');\n",
              "      quickchartButtonEl.disabled = true;  // To prevent multiple clicks.\n",
              "      quickchartButtonEl.classList.add('colab-df-spinner');\n",
              "      try {\n",
              "        const charts = await google.colab.kernel.invokeFunction(\n",
              "            'suggestCharts', [key], {});\n",
              "      } catch (error) {\n",
              "        console.error('Error during call to suggestCharts:', error);\n",
              "      }\n",
              "      quickchartButtonEl.classList.remove('colab-df-spinner');\n",
              "      quickchartButtonEl.classList.add('colab-df-quickchart-complete');\n",
              "    }\n",
              "    (() => {\n",
              "      let quickchartButtonEl =\n",
              "        document.querySelector('#df-90d948c3-23b3-4b35-83d6-3ff66c741517 button');\n",
              "      quickchartButtonEl.style.display =\n",
              "        google.colab.kernel.accessAllowed ? 'block' : 'none';\n",
              "    })();\n",
              "  </script>\n",
              "</div>\n",
              "\n",
              "    </div>\n",
              "  </div>\n"
            ],
            "application/vnd.google.colaboratory.intrinsic+json": {
              "type": "dataframe",
              "summary": "{\n  \"name\": \"df_earnings\",\n  \"rows\": 8,\n  \"fields\": [\n    {\n      \"column\": \"height\",\n      \"properties\": {\n        \"dtype\": \"number\",\n        \"std\": 621.8507902966276,\n        \"min\": 3.8318223821904533,\n        \"max\": 1816.0,\n        \"num_unique_values\": 8,\n        \"samples\": [\n          66.56883259911895,\n          66.0,\n          1816.0\n        ],\n        \"semantic_type\": \"\",\n        \"description\": \"\"\n      }\n    },\n    {\n      \"column\": \"weight\",\n      \"properties\": {\n        \"dtype\": \"number\",\n        \"std\": 585.2337481209917,\n        \"min\": 34.617059469205266,\n        \"max\": 1789.0,\n        \"num_unique_values\": 8,\n        \"samples\": [\n          156.30519843487983,\n          150.0,\n          1789.0\n        ],\n        \"semantic_type\": \"\",\n        \"description\": \"\"\n      }\n    },\n    {\n      \"column\": \"male\",\n      \"properties\": {\n        \"dtype\": \"number\",\n        \"std\": 641.9088879957076,\n        \"min\": 0.0,\n        \"max\": 1816.0,\n        \"num_unique_values\": 5,\n        \"samples\": [\n          0.3716960352422907,\n          1.0,\n          0.48339090160331644\n        ],\n        \"semantic_type\": \"\",\n        \"description\": \"\"\n      }\n    },\n    {\n      \"column\": \"earn\",\n      \"properties\": {\n        \"dtype\": \"number\",\n        \"std\": 137015.9092527401,\n        \"min\": 0.0,\n        \"max\": 400000.0,\n        \"num_unique_values\": 8,\n        \"samples\": [\n          21147.296255506608,\n          16000.0,\n          1816.0\n        ],\n        \"semantic_type\": \"\",\n        \"description\": \"\"\n      }\n    },\n    {\n      \"column\": \"earnk\",\n      \"properties\": {\n        \"dtype\": \"number\",\n        \"std\": 631.7302783989803,\n        \"min\": 0.0,\n        \"max\": 1816.0,\n        \"num_unique_values\": 8,\n        \"samples\": [\n          21.147296255506607,\n          16.0,\n          1816.0\n        ],\n        \"semantic_type\": \"\",\n        \"description\": \"\"\n      }\n    },\n    {\n      \"column\": \"education\",\n      \"properties\": {\n        \"dtype\": \"number\",\n        \"std\": 637.5933316291699,\n        \"min\": 2.0,\n        \"max\": 1814.0,\n        \"num_unique_values\": 7,\n        \"samples\": [\n          1814.0,\n          13.235391400220507,\n          15.0\n        ],\n        \"semantic_type\": \"\",\n        \"description\": \"\"\n      }\n    },\n    {\n      \"column\": \"mother_education\",\n      \"properties\": {\n        \"dtype\": \"number\",\n        \"std\": 548.615786774906,\n        \"min\": 3.0,\n        \"max\": 1572.0,\n        \"num_unique_values\": 8,\n        \"samples\": [\n          13.608778625954198,\n          13.0,\n          1572.0\n        ],\n        \"semantic_type\": \"\",\n        \"description\": \"\"\n      }\n    },\n    {\n      \"column\": \"father_education\",\n      \"properties\": {\n        \"dtype\": \"number\",\n        \"std\": 530.6111816637716,\n        \"min\": 3.0,\n        \"max\": 1521.0,\n        \"num_unique_values\": 8,\n        \"samples\": [\n          13.652202498356344,\n          13.0,\n          1521.0\n        ],\n        \"semantic_type\": \"\",\n        \"description\": \"\"\n      }\n    },\n    {\n      \"column\": \"walk\",\n      \"properties\": {\n        \"dtype\": \"number\",\n        \"std\": 640.345503986007,\n        \"min\": 1.0,\n        \"max\": 1816.0,\n        \"num_unique_values\": 7,\n        \"samples\": [\n          1816.0,\n          5.3034140969163,\n          6.0\n        ],\n        \"semantic_type\": \"\",\n        \"description\": \"\"\n      }\n    },\n    {\n      \"column\": \"exercise\",\n      \"properties\": {\n        \"dtype\": \"number\",\n        \"std\": 640.977123857233,\n        \"min\": 1.0,\n        \"max\": 1816.0,\n        \"num_unique_values\": 7,\n        \"samples\": [\n          1816.0,\n          3.0490088105726874,\n          5.0\n        ],\n        \"semantic_type\": \"\",\n        \"description\": \"\"\n      }\n    },\n    {\n      \"column\": \"smokenow\",\n      \"properties\": {\n        \"dtype\": \"number\",\n        \"std\": 641.1854472092741,\n        \"min\": 0.4357254529423156,\n        \"max\": 1815.0,\n        \"num_unique_values\": 5,\n        \"samples\": [\n          1.7454545454545454,\n          2.0,\n          0.4357254529423156\n        ],\n        \"semantic_type\": \"\",\n        \"description\": \"\"\n      }\n    },\n    {\n      \"column\": \"tense\",\n      \"properties\": {\n        \"dtype\": \"number\",\n        \"std\": 641.0681819465121,\n        \"min\": 0.0,\n        \"max\": 1815.0,\n        \"num_unique_values\": 6,\n        \"samples\": [\n          1815.0,\n          1.421487603305785,\n          7.0\n        ],\n        \"semantic_type\": \"\",\n        \"description\": \"\"\n      }\n    },\n    {\n      \"column\": \"angry\",\n      \"properties\": {\n        \"dtype\": \"number\",\n        \"std\": 641.0681819465121,\n        \"min\": 0.0,\n        \"max\": 1815.0,\n        \"num_unique_values\": 6,\n        \"samples\": [\n          1815.0,\n          1.421487603305785,\n          7.0\n        ],\n        \"semantic_type\": \"\",\n        \"description\": \"\"\n      }\n    },\n    {\n      \"column\": \"age\",\n      \"properties\": {\n        \"dtype\": \"number\",\n        \"std\": 627.7011429708523,\n        \"min\": 17.16167172391752,\n        \"max\": 1816.0,\n        \"num_unique_values\": 8,\n        \"samples\": [\n          42.934471365638764,\n          39.0,\n          1816.0\n        ],\n        \"semantic_type\": \"\",\n        \"description\": \"\"\n      }\n    }\n  ]\n}"
            }
          },
          "metadata": {},
          "execution_count": 114
        }
      ]
    },
    {
      "cell_type": "code",
      "source": [
        "#REVISIÓM DE LOS NOMBRES DE LAS COLUMNAS DEL DATASET.\n",
        "\n",
        "df_earnings.columns"
      ],
      "metadata": {
        "colab": {
          "base_uri": "https://localhost:8080/"
        },
        "id": "Itrvk5gUQOW-",
        "outputId": "3a82e80a-58df-4571-9a56-f5d4bb7a264a"
      },
      "execution_count": null,
      "outputs": [
        {
          "output_type": "execute_result",
          "data": {
            "text/plain": [
              "Index(['height', 'weight', 'male', 'earn', 'earnk', 'ethnicity', 'education',\n",
              "       'mother_education', 'father_education', 'walk', 'exercise', 'smokenow',\n",
              "       'tense', 'angry', 'age'],\n",
              "      dtype='object')"
            ]
          },
          "metadata": {},
          "execution_count": 115
        }
      ]
    },
    {
      "cell_type": "markdown",
      "source": [
        "# **PREGUNTA Nº 1: CONSIDERANDO LAS VARIABLES EARN, HEIGHT Y AGE, VAMOS A SUPONER QUE NUESTRO DATASET FUERA UNA POBLACIÓN COMPLETA (PREPARA LOS DATOS ADECUADAMENTE)**.\n",
        "\n",
        "\n",
        "*   **Letra A): Realiza 5 pruebas con muesras de tamaño n=25, en cada caso, con niveles de significancia diferentes pero inferiores a 0,1, para confirmar o rechazar las siguientes hipótesis considerando las alternativas. Crea para ello una fórmula que reciba los parámetros adecuados y responda \"con nivel de confianza del porcentaje (%), se acepta la hipótesis nula/alternativa\"**.\n",
        "\n",
        "*   **Letra B): Calcula la media poblacional para cada variable. ¿Son correctos los resultados obtenidos por tus pruebas?**\n",
        "\n"
      ],
      "metadata": {
        "id": "TV8iqy0Bad4o"
      }
    },
    {
      "cell_type": "code",
      "source": [
        "#REVISIÓN DEL TIPO DE  DATOS Y OTRAS INFORMACIONES RELEVANTES DE LAS VARIABLES EN ESTUDIO CON FUNCIÓN INFO.\n",
        "\n",
        "df_earnings[['earn', 'height', 'age']].info()"
      ],
      "metadata": {
        "colab": {
          "base_uri": "https://localhost:8080/"
        },
        "id": "A1pAGTobb-qU",
        "outputId": "ae9decd3-ebb0-4dfa-93a3-9c108f7da819"
      },
      "execution_count": null,
      "outputs": [
        {
          "output_type": "stream",
          "name": "stdout",
          "text": [
            "<class 'pandas.core.frame.DataFrame'>\n",
            "RangeIndex: 1816 entries, 0 to 1815\n",
            "Data columns (total 3 columns):\n",
            " #   Column  Non-Null Count  Dtype  \n",
            "---  ------  --------------  -----  \n",
            " 0   earn    1816 non-null   float64\n",
            " 1   height  1816 non-null   int64  \n",
            " 2   age     1816 non-null   int64  \n",
            "dtypes: float64(1), int64(2)\n",
            "memory usage: 42.7 KB\n"
          ]
        }
      ]
    },
    {
      "cell_type": "code",
      "source": [
        "#REVISIÓN DE DATOS NAN O NULL DE LAS VARIABLES EN ESTUDIO.\n",
        "\n",
        "df_earnings[['earn', 'height', 'age']].info()"
      ],
      "metadata": {
        "id": "ySIJCUDYb-jc",
        "colab": {
          "base_uri": "https://localhost:8080/"
        },
        "outputId": "e0c0da46-17de-4475-db65-fd9b2a7d942b"
      },
      "execution_count": null,
      "outputs": [
        {
          "output_type": "stream",
          "name": "stdout",
          "text": [
            "<class 'pandas.core.frame.DataFrame'>\n",
            "RangeIndex: 1816 entries, 0 to 1815\n",
            "Data columns (total 3 columns):\n",
            " #   Column  Non-Null Count  Dtype  \n",
            "---  ------  --------------  -----  \n",
            " 0   earn    1816 non-null   float64\n",
            " 1   height  1816 non-null   int64  \n",
            " 2   age     1816 non-null   int64  \n",
            "dtypes: float64(1), int64(2)\n",
            "memory usage: 42.7 KB\n"
          ]
        }
      ]
    },
    {
      "cell_type": "code",
      "source": [
        "#CREACIÓN DE DATAFRAME EXTRAYENDO LAS VARIABLES EN ESTUDIO.\n",
        "\n",
        "df_ganancias =df_earnings.loc[:, ['earn', 'height', 'age']]\n",
        "print(df_ganancias)"
      ],
      "metadata": {
        "colab": {
          "base_uri": "https://localhost:8080/"
        },
        "id": "yYvF3USzJR6g",
        "outputId": "134ae7a5-b0a7-43ed-f393-6d30e08a2dae"
      },
      "execution_count": null,
      "outputs": [
        {
          "output_type": "stream",
          "name": "stdout",
          "text": [
            "         earn  height  age\n",
            "0     50000.0      74   45\n",
            "1     60000.0      66   58\n",
            "2     30000.0      64   29\n",
            "3     25000.0      65   57\n",
            "4     50000.0      63   91\n",
            "...       ...     ...  ...\n",
            "1811  15000.0      61   82\n",
            "1812   8000.0      64   33\n",
            "1813  60000.0      72   50\n",
            "1814  15000.0      63   69\n",
            "1815   6000.0      68   27\n",
            "\n",
            "[1816 rows x 3 columns]\n"
          ]
        }
      ]
    },
    {
      "cell_type": "code",
      "source": [
        "#REVISIÓN DE DATOS DUPLICADOS DE LAS VARIABLES EN ESTUDIO.\n",
        "\n",
        "df_ganancias.duplicated().sum()\n",
        "print(df_ganancias)"
      ],
      "metadata": {
        "colab": {
          "base_uri": "https://localhost:8080/"
        },
        "id": "wn2E_ybaHi2B",
        "outputId": "ee972e9e-badd-40cc-bc63-6e8413eaa132"
      },
      "execution_count": null,
      "outputs": [
        {
          "output_type": "stream",
          "name": "stdout",
          "text": [
            "         earn  height  age\n",
            "0     50000.0      74   45\n",
            "1     60000.0      66   58\n",
            "2     30000.0      64   29\n",
            "3     25000.0      65   57\n",
            "4     50000.0      63   91\n",
            "...       ...     ...  ...\n",
            "1811  15000.0      61   82\n",
            "1812   8000.0      64   33\n",
            "1813  60000.0      72   50\n",
            "1814  15000.0      63   69\n",
            "1815   6000.0      68   27\n",
            "\n",
            "[1816 rows x 3 columns]\n"
          ]
        }
      ]
    },
    {
      "cell_type": "code",
      "source": [
        "#ELIMINACIÓN DE LOS REGISTROS DUPLICADOS.\n",
        "\n",
        "df_ganancias = df_ganancias.drop_duplicates()\n",
        "print(df_ganancias)"
      ],
      "metadata": {
        "colab": {
          "base_uri": "https://localhost:8080/"
        },
        "id": "5ZeGb4KNHiy1",
        "outputId": "e757570d-3725-4d2c-fec1-5007c5ff6f40"
      },
      "execution_count": null,
      "outputs": [
        {
          "output_type": "stream",
          "name": "stdout",
          "text": [
            "         earn  height  age\n",
            "0     50000.0      74   45\n",
            "1     60000.0      66   58\n",
            "2     30000.0      64   29\n",
            "3     25000.0      65   57\n",
            "4     50000.0      63   91\n",
            "...       ...     ...  ...\n",
            "1811  15000.0      61   82\n",
            "1812   8000.0      64   33\n",
            "1813  60000.0      72   50\n",
            "1814  15000.0      63   69\n",
            "1815   6000.0      68   27\n",
            "\n",
            "[1706 rows x 3 columns]\n"
          ]
        }
      ]
    },
    {
      "cell_type": "code",
      "source": [
        "#CREACIÓN DE HISTOGRAMA CON LA COLUMNA BIRTH RATE\n",
        "\n",
        "sns.histplot(data=df_ganancias, x='height', color = 'lightpink', kde=True)\n",
        "plt.axvline(df_ganancias['height'].mean(), color='tomato', ls='--', label='Media')\n",
        "plt.axvline(df_ganancias['height'].median(), color='green', ls='--', label='Mediana')\n",
        "sns.set_style(rc = {'axes.facecolor': '#EBEBEB'})\n",
        "plt.xlabel('Altura')\n",
        "plt.ylabel('Frecuencia')\n",
        "plt.title('Histograma del Índice de Altura')\n",
        "plt.legend()\n",
        "plt.show()"
      ],
      "metadata": {
        "colab": {
          "base_uri": "https://localhost:8080/",
          "height": 495
        },
        "id": "gHNpEReHHivU",
        "outputId": "8995be4b-19c6-4148-85ac-ea856e2fc295"
      },
      "execution_count": null,
      "outputs": [
        {
          "output_type": "display_data",
          "data": {
            "text/plain": [
              "<Figure size 640x480 with 1 Axes>"
            ],
            "image/png": "[encoded data removed]"
          },
          "metadata": {}
        }
      ]
    },
    {
      "cell_type": "markdown",
      "source": [
        "# **RESPUESTA PREGUNTA Nº 1 LETRA A):**  Realiza 5 pruebas con muestras de tamaño n=25, en cada caso, con niveles de significancia diferentes pero inferiores a 0,1, para confirmar o rechazar las siguientes hipótesis considerando las alternativas. Crea para ello una fórmula que reciba los parámetros adecuados y responda \"con nivel de confianza del porcentaje (%), se acepta la hipótesis nula/alternativa\""
      ],
      "metadata": {
        "id": "14vKNJz9P2f3"
      }
    },
    {
      "cell_type": "code",
      "source": [
        "#OBTENCIÓN DE LA MEDIA DEL DATAFRAME\n",
        "\n",
        "media = np.mean(df_ganancias)\n",
        "print(f'La media de la altura es de: {media}')"
      ],
      "metadata": {
        "colab": {
          "base_uri": "https://localhost:8080/"
        },
        "id": "8i9F2jV1KoJT",
        "outputId": "baca2e64-51f0-472f-e29d-4899ee6596d2"
      },
      "execution_count": null,
      "outputs": [
        {
          "output_type": "stream",
          "name": "stdout",
          "text": [
            "La media de la altura es de: 7255.228800312622\n"
          ]
        }
      ]
    },
    {
      "cell_type": "code",
      "source": [
        "#FUNCIÓN QUE REALIZA 5 PRUEBAS CON MUESTAS DE TAMAÑO 25 CON NIVELES DE SIFNIFICANCIA DIFERENTES PERO INFERIORES A 0.01 QUE CONFIRMA\n",
        "#O RECHAZA LA HIPÓTESIS NULA Y/O ALTERNATIVA, CON UN NIVEL DE CONFIANZA MEDIDO EN PORCENTAJE RESPECTO A DICHA ACEPTACIÓN O RECHAZO.\n",
        "\n",
        "\n",
        "def prueba_hipotesis_media(variable, mu, colas):              #Se define la función para las pruebas de hipótesis\n",
        "  datos = df_ganancias[variable]\n",
        "  datos = datos.dropna()\n",
        "  alpha = round(np.random.uniform(0.01, 0.1),2)\n",
        "  confianza = 100 * (1-alpha)\n",
        "  muestra = np.random.choice(datos, 25)\n",
        "  t_stat, p_value = st.ttest_1samp(muestra, mu, alternative = colas)\n",
        "\n",
        "  #Verificación de los valores, para los hipótesis en que el valor de p sea menor al valor de alfa, caso en el cual se rechaza la hipótesis nula.\n",
        "\n",
        "  if p_value < alpha:\n",
        "    if colas=='two-side':\n",
        "      print(f'Con un nivel de confianza de un {confianza}%,  se acepta la hipótesis alternativa (la media es distinta {mu})')\n",
        "    if colas=='greater':\n",
        "      print(f'Con un nivel de confianza de un {confianza}%, se acepta la hipótesis alternativa (la media es mayor que {mu})')\n",
        "    if colas=='less':\n",
        "      print(f'Con un nivel de confianza de {confianza}%, se acepta la hipótesis alternativa (la media es menor que {mu})')\n",
        "  else:\n",
        "    print(f'Con un nivel de confianza de {confianza}%, se acepta la hipótesis nula (la media es igual a {mu})')\n",
        "\n",
        "  print(f'Valor t: {t_stat}')\n",
        "  print(f'Valor p: {p_value}')\n",
        "  print('\\n')\n",
        "\n",
        "\n",
        "casos={'earn':[[20000,'two-sided'],[35000,'two-sided'],[25000,'greater'],[32000,'less']],'height':[[55,'two-sided'],[68,'two-sided'],[63,'greater'],[70,'less']],'age':[[44,'two-sided'],[56,'two-sided'],[51,'greater'],[62,'less']]}\n",
        "\n",
        "\n",
        "for key, values in casos.items():\n",
        "    print(f\"Variable: {key}\")\n",
        "    for value in values:\n",
        "      prueba_hipotesis_media(key,value[0],value[1])"
      ],
      "metadata": {
        "colab": {
          "base_uri": "https://localhost:8080/"
        },
        "id": "2HmMY0mwPC73",
        "outputId": "eb0d55e6-cbaf-40a6-eefd-71230027dc52"
      },
      "execution_count": null,
      "outputs": [
        {
          "output_type": "stream",
          "name": "stdout",
          "text": [
            "Variable: earn\n",
            "Con un nivel de confianza de 93.0%, se acepta la hipótesis nula (la media es igual a 20000)\n",
            "Valor t: 0.23902081270500197\n",
            "Valor p: 0.8131187621110896\n",
            "\n",
            "\n",
            "Valor t: -3.367531406671353\n",
            "Valor p: 0.0025532267450545055\n",
            "\n",
            "\n",
            "Con un nivel de confianza de 94.0%, se acepta la hipótesis nula (la media es igual a 25000)\n",
            "Valor t: -2.8714145731136296\n",
            "Valor p: 0.9957972513242258\n",
            "\n",
            "\n",
            "Con un nivel de confianza de 93.0%, se acepta la hipótesis alternativa (la media es menor que 32000)\n",
            "Valor t: -4.328411627612416\n",
            "Valor p: 0.00011457159268399806\n",
            "\n",
            "\n",
            "Variable: height\n",
            "Valor t: 13.301494999359948\n",
            "Valor p: 1.4411117319382424e-12\n",
            "\n",
            "\n",
            "Con un nivel de confianza de 96.0%, se acepta la hipótesis nula (la media es igual a 68)\n",
            "Valor t: -1.687391667750581\n",
            "Valor p: 0.10448408223059061\n",
            "\n",
            "\n",
            "Con un nivel de confianza de un 94.0%, se acepta la hipótesis alternativa (la media es mayor que 63)\n",
            "Valor t: 4.738933411490657\n",
            "Valor p: 4.032596325714616e-05\n",
            "\n",
            "\n",
            "Con un nivel de confianza de 99.0%, se acepta la hipótesis alternativa (la media es menor que 70)\n",
            "Valor t: -2.9788753091849984\n",
            "Valor p: 0.0032624010745652397\n",
            "\n",
            "\n",
            "Variable: age\n",
            "Con un nivel de confianza de 94.0%, se acepta la hipótesis nula (la media es igual a 44)\n",
            "Valor t: -0.5885045094436369\n",
            "Valor p: 0.561691891044399\n",
            "\n",
            "\n",
            "Valor t: -5.56250728020201\n",
            "Valor p: 1.008215745741692e-05\n",
            "\n",
            "\n",
            "Con un nivel de confianza de 94.0%, se acepta la hipótesis nula (la media es igual a 51)\n",
            "Valor t: -1.2001087425900527\n",
            "Valor p: 0.8790950456546137\n",
            "\n",
            "\n",
            "Con un nivel de confianza de 95.0%, se acepta la hipótesis alternativa (la media es menor que 62)\n",
            "Valor t: -4.94778115670401\n",
            "Valor p: 2.372635606790303e-05\n",
            "\n",
            "\n"
          ]
        }
      ]
    },
    {
      "cell_type": "markdown",
      "source": [],
      "metadata": {
        "id": "OmCkytCBhk6r"
      }
    },
    {
      "cell_type": "markdown",
      "source": [
        "# **OBJETIVO DE LA FUNCIÓN CREADA**\n",
        "\n",
        "\n",
        "---\n",
        "\n",
        "\n",
        "####La función creada tiene por objeto realizar pruebas de hipótesis tomando la media de una variable determinada, tomando como base a muestras de tamaño 25, en la cual se utilizan niveles de significancia aleatorios que varían entre 0.01 y 0.1. En ella, se calcula el nivel de confianza de cada prueba. Asimismo, selecciona una muestra aleatoria con los datos entregados y disponibles, realizando en ellos una prueba t con la medida entregada. Para finalizar, y en base a los cálculos realizados, se acepta o rechaza la hipótesis nula en base al valor p que se obtiene, el cual se imprime en conjunto con el valor t para corroborar los resultaados.\n"
      ],
      "metadata": {
        "id": "Ug0wjRM1iN6l"
      }
    },
    {
      "cell_type": "markdown",
      "source": [
        "# **Interpretación de los resultados de la variable 'earn\"**:\n",
        "\n",
        "---\n",
        "\n",
        "1.   **PRUEBA 1**: Con un nivel de confianza de un 93%, se acepta la hipótesis nula, lo que indica que la media de \"earn\" es igual a $20.000. El valor de t (0.23902081270500197) y el valor de p (0.8131187621110896) indican que no hay suficiente evidencia para rechazar la H0. En base a lo anterior se infiere que la media de \"earn\" no es significativamente diferente de 20.000.\n",
        "\n",
        "\n",
        "2.   **PRUEBA 2**: Podemos inferir, en base a los valores arrojados (p=-3.367531406671353 y t=0.0025532267450545055) , que el valor de p es significativamente bajo, por lo que se rechaza la hipótesis nula. Esto sugiere que la media de ganancias es significativamente diferente de $20,000 con un nivel de confianza del 99%.\n",
        "\n",
        "3.   **PRUEBA 3**: Con un nivel de confianza del 94%, se acepta la hipótesis nula, lo que indicaría que la media de la variable \"earn\" es igual a 25.000. Según los valores de t y p, se infiere que no hay suficiente evidencia para rechazar la hipótesis nula, por tanto, la media de ganancias no es significativamente diferente de 25.000 con un nivel de confianza del 94%.\n",
        "\n",
        "4.   **PRUEBA 4**: Con un nivel de confianza de un 93%, se acepta la hipótesis alternativa, por ende, la media de ganancia es menor de 32.000. Dado los valores obtenidos de p y t, el valor p es extremadamente bajo, por lo que se visualiza evidencia signiticativa para rechazar la hipótesis nula.\n",
        "\n",
        "\n",
        "####**CONCLUSIÓN**: En base a los resultados obtenidos, concluír respecto a si la media de la variable \"earn\" es igual o no al valor ingresado, va a depender del nivel de vonfianza y del valor de p que se obtenga en cada prueba de hipótesis.\n",
        "\n",
        "\n",
        "####**IMPORTANTE**: Al seleccionar la muestra en forma aleatoria, los resultados pueden variar, por lo que su interpretación se realizan en base a los resultados obtenidos en el print actual.\n",
        "\n",
        "\n",
        "\n",
        "\n"
      ],
      "metadata": {
        "id": "FDuB5aX5mZfv"
      }
    },
    {
      "cell_type": "markdown",
      "source": [
        "# **Interpretación de los resultados de la variable \"height\"**:\n",
        "\n",
        "---\n",
        "\n",
        "1.   **PRUEBA 1**: Con los resultados obtenidos en la prueba de hipótesis 1, se puede deducir que el valor de p es extremadamente, de lo que se infiere que existe evidencia significativa para rechazar la hipótesis nula. Por ende, la media de la variable \"height\" es significativamente diferente de 0 con un alto nivel de confianza.\n",
        "\n",
        "2.   **PRUEBA 2**: Con un nivel de confianza de un 96%, se acepta la hipótesis nula, lo que indicaría que la media de la variable \"height\" es de 68. Se infiere en base a los valores de t y p, en donde el de p es mayor que el nivel de significancia, por tanto, no hay suficiente evidencia para rechazar la hipótesis nula. Se concluye que la media de la variable \"height\" no es significativamente diferente de 68, con el nivel de confianza señalado precedentemente (96%).\n",
        "\n",
        "3.   **PRUEBA 3**: Con un nivel de confianza del 94%, se acepta la hipótesis alternativa, lo que indicaría que la media de la variable \"height\" es mayor a 63. Según los valores de t y p, se visualiza que el valor de p es extremadamente bajo, por ende, se infiere que hay evidencia signiticativa para rechazar la hipótesis nula, por tanto, la media de la variable \"height\"  es significativamente mayor que 63, con un nivel de confianza del 94%.\n",
        "\n",
        "4.   **PRUEBA 4**: Con un nivel de confianza de un 99%, se acepta la hipótesis alternativa, por ende, la media de la variable \"height\" es menor de 70. Dado los valores obtenidos de p y t, el valor p es significativamente bajo, por lo que se visualiza evidencia signiticativa para rechazar la hipótesis nula.\n",
        "\n",
        "\n",
        "\n",
        "####**CONCLUSIÓN**: En base a los resultados obtenidos, concluír respecto a si la media de la variable \"height\" es igual o no al valor ingresado, va a depender del nivel de confianza y del valor de p que se obtenga en cada prueba de hipótesis.\n",
        "\n",
        "\n",
        "####**IMPORTANTE**: Al seleccionar la muestra en forma aleatoria, los resultados pueden variar, por lo que su interpretación se realizan en base a los resultados obtenidos en el print actual."
      ],
      "metadata": {
        "id": "zcKnUBHmtWYk"
      }
    },
    {
      "cell_type": "markdown",
      "source": [
        "# **Interpretación de los resultados de la variable 'age\"**:\n",
        "\n",
        "---\n",
        "\n",
        "1.   **PRUEBA 1**: Con un nivel de confianza de un 94%, se acepta la hipótesis nula, lo que indica que la media de \"age\" es igual a 44. El valor de p es mayor que el nivel de significancia, por lo que no hay suficiente evidencia para rechazar la H0.\n",
        "\n",
        "2.   **PRUEBA 2**: Podemos inferir, en base a los valores arrojados de p y t, que el valor de p es extremadamente bajo, por lo que se visualiza evidencia significativa para rechazar la hipótesis nula. Lo anterior permite inferir que la media de la variable \"age\" es significativamente diferente a 44, con un nivelo de confianza de un 99.9%\n",
        "\n",
        "3.   **PRUEBA 3**: Con un nivel de confianza del 94%, se acepta la hipótesis nula, lo que indicaría que la media de la variable \"age\" es igual a 51. Según los valores de t y p, el valor de p es mayor que el nivel de significancia, por lo que no se visualiza evidencia suficiente para rechazar la hipótesis nula.\n",
        "\n",
        "4.   **PRUEBA 4**: Con un nivel de confianza de un 95%, se acepta la hipótesis alternativa, por ende, la media de la variable \"age\" es menor a 62. Dado los valores obtenidos de p y t, el valor p es extremadamente bajo, por lo que se visualiza evidencia signiticativa para rechazar la hipótesis nula.\n",
        "\n",
        "\n",
        "####**CONCLUSIÓN**: En base a los resultados obtenidos, concluír respecto a si la media de la variable \"age\" es igual o no al valor ingresado, va a depender del nivel de confianza y del valor de p que se obtenga en cada prueba de hipótesis.\n",
        "\n",
        "\n",
        "####**IMPORTANTE**: Al seleccionar la muestra en forma aleatoria, los resultados pueden variar, por lo que su interpretación se realizan en base a los resultados obtenidos en el print actual."
      ],
      "metadata": {
        "id": "fj1RrijRzcuc"
      }
    },
    {
      "cell_type": "markdown",
      "source": [
        "# **RESPUESTA PREGUNTA Nº 1 LETRA B):** CALCULA LA MEDIA POBLACIONAL PARA CADA VARIABLE. ¿SON CORRECTOS LOS RESULTADOS OBTENIDOS POR TUS PRUEBAS?\n"
      ],
      "metadata": {
        "id": "QHrXlisxhlab"
      }
    },
    {
      "cell_type": "code",
      "source": [
        "#CÁLCULO DE LA MEDIA POBLACIONAL DE CADA UNA DE LAS VARIABLES EN ESTUDIO.\n",
        "\n",
        "media_muestral_1 = round(np.mean(df_ganancias['earn']))\n",
        "\n",
        "media_muestral_2 = round(np.mean(df_ganancias['height']))\n",
        "\n",
        "media_muestral_3 = round(np.mean(df_ganancias['age']))\n",
        "\n",
        "print(\"Media earn:\", media_muestral_1)\n",
        "print(\"Media height:\", media_muestral_2)\n",
        "print(\"Media age:\", media_muestral_3)\n"
      ],
      "metadata": {
        "colab": {
          "base_uri": "https://localhost:8080/"
        },
        "id": "9yanvcEQoIBV",
        "outputId": "b6ab792f-9e8c-4fba-e988-9a322f549060"
      },
      "execution_count": null,
      "outputs": [
        {
          "output_type": "stream",
          "name": "stdout",
          "text": [
            "Media earn: 21656\n",
            "Media height: 67\n",
            "Media age: 43\n"
          ]
        }
      ]
    },
    {
      "cell_type": "code",
      "source": [
        "#FUNCIÓN QUE CALCULA EL MARGEN DE ERROR Y EL INTÉRVALO DE CONFIANZA (INFERIOR Y SUPERIOR) PARA CADA UNA DE\n",
        "#LAS VARIABLES DEL DATAFRAME EN ESTUDIO.\n",
        "\n",
        "def calcular_media_margen_error_intervalo_confianza(dataframe, confianza=0.95):\n",
        "\n",
        "    # Calcula el error estándar de la media\n",
        "    error_estandar = np.std(dataframe) / np.sqrt(len(dataframe))\n",
        "\n",
        "    # Calcula el margen de error multiplicando el error estándar por el valor crítico de Z\n",
        "    valor_critico = norm.ppf((1 + confianza) / 2)\n",
        "    margen_error = error_estandar * valor_critico\n",
        "\n",
        "    # Calcula los límites del intervalo de confianza\n",
        "    limite_inferior = media_muestral - margen_error\n",
        "    limite_superior = media_muestral + margen_error\n",
        "\n",
        "\n",
        "    return media_muestral, margen_error, (limite_inferior, limite_superior)\n",
        "\n",
        "nedia, margen_error, intervalo_confianza = calcular_media_margen_error_intervalo_confianza(df_ganancias)\n",
        "print(f'El margen de error de cada variable es de: {margen_error}')\n",
        "print(f'El intervalo de confianza de cada variable es de: {intervalo_confianza}')\n"
      ],
      "metadata": {
        "colab": {
          "base_uri": "https://localhost:8080/"
        },
        "id": "L085z3LrddCm",
        "outputId": "b9483eb1-3c3b-423b-c7ad-2994adffe9a0"
      },
      "execution_count": null,
      "outputs": [
        {
          "output_type": "stream",
          "name": "stdout",
          "text": [
            "El margen de error de cada variable es de: earn      1085.252055\n",
            "height       0.183693\n",
            "age          0.817081\n",
            "dtype: float64\n",
            "El intervalo de confianza de cada variable es de: (earn      20062.044200\n",
            "height    21147.112562\n",
            "age       21146.479175\n",
            "dtype: float64, earn      22232.548311\n",
            "height    21147.479949\n",
            "age       21148.113336\n",
            "dtype: float64)\n"
          ]
        }
      ]
    },
    {
      "cell_type": "code",
      "source": [
        "#CÁLCULO DE LA MEDIA POBLACIONAL DE LA VARIABLE EARN DEL DATAFRAME EN ESTUDIO CON MODELO DE DISTRIBUCIÓN NORMAL.\n",
        "\n",
        "# Calcular la media y el error estándar de la variable 'earn' en el DataFrame\n",
        "media = df_ganancias['earn'].mean()\n",
        "error_estandar = st.sem(df_ganancias['earn'])\n",
        "\n",
        "# Definir el nivel de confianza\n",
        "alpha = 0.95\n",
        "\n",
        "# Calcular el intervalo de confianza utilizando la distribución normal\n",
        "intervalo = st.norm.ppf(1 - (1 - alpha) / 2) * error_estandar\n",
        "\n",
        "# Calcular los límites del intervalo\n",
        "limite_inferior = media - intervalo\n",
        "limite_superior = media + intervalo\n",
        "\n",
        "# Redondear la media y el margen de error\n",
        "media_redondeada = round(media, 2)\n",
        "margen_error_redondeado = round(intervalo, 2)\n",
        "\n",
        "# Imprimir el resultado\n",
        "print(f\"La media poblacional de 'earn' es {media_redondeada}, con un margen de error de {margen_error_redondeado} y una confiabilidad del {alpha * 100}%.\")\n"
      ],
      "metadata": {
        "colab": {
          "base_uri": "https://localhost:8080/"
        },
        "id": "2fBFXcKvnnLJ",
        "outputId": "702ef9cf-9683-45d7-a4e3-0dd5e093c903"
      },
      "execution_count": null,
      "outputs": [
        {
          "output_type": "stream",
          "name": "stdout",
          "text": [
            "La media poblacional de 'earn' es 21655.62, con un margen de error de 1085.57 y una confiabilidad del 95.0%.\n"
          ]
        }
      ]
    },
    {
      "cell_type": "code",
      "source": [
        "#CÁLCULO DE LA MEDIA POBLACIONAL DE LA VARIABLE HEIGHT DEL DATAFRAME EN ESTUDIO CON MODELO DE DISTRIBUCIÓN NORMAL.\n",
        "\n",
        "# Calcular la media y el error estándar de la variable 'earn' en el DataFrame\n",
        "media = df_ganancias['height'].mean()\n",
        "error_estandar = st.sem(df_ganancias['height'])\n",
        "\n",
        "# Definir el nivel de confianza\n",
        "alpha = 0.95\n",
        "\n",
        "# Calcular el intervalo de confianza utilizando la distribución normal\n",
        "intervalo = st.norm.ppf(1 - (1 - alpha) / 2) * error_estandar\n",
        "\n",
        "# Calcular los límites del intervalo\n",
        "limite_inferior = media - intervalo\n",
        "limite_superior = media + intervalo\n",
        "\n",
        "# Redondear la media y el margen de error\n",
        "media_redondeada = round(media, 2)\n",
        "margen_error_redondeado = round(intervalo, 2)\n",
        "\n",
        "# Imprimir el resultado\n",
        "print(f\"La media poblacional de la variable 'height' es {media_redondeada}, con un margen de error de {margen_error_redondeado} y una confiabilidad del {alpha * 100}%.\")"
      ],
      "metadata": {
        "colab": {
          "base_uri": "https://localhost:8080/"
        },
        "id": "cp-yLnRCEo1G",
        "outputId": "389f9599-016b-4cf5-cd13-6e629a0b512e"
      },
      "execution_count": null,
      "outputs": [
        {
          "output_type": "stream",
          "name": "stdout",
          "text": [
            "La media poblacional de la variable 'height' es 66.63, con un margen de error de 0.18 y una confiabilidad del 95.0%.\n"
          ]
        }
      ]
    },
    {
      "cell_type": "code",
      "source": [
        "#CÁLCULO DE LA MEDIA POBLACIONAL DE LA VARIABLE AGE DEL DATAFRAME EN ESTUDIO CON MODELO DE DISTRIBUCIÓN NORMAL.\n",
        "\n",
        "# Calcular la media y el error estándar de la variable 'earn' en el DataFrame\n",
        "media = df_ganancias['age'].mean()\n",
        "error_estandar = st.sem(df_ganancias['age'])\n",
        "\n",
        "# Definir el nivel de confianza\n",
        "alpha = 0.95\n",
        "\n",
        "# Calcular el intervalo de confianza utilizando la distribución normal\n",
        "intervalo = st.norm.ppf(1 - (1 - alpha) / 2) * error_estandar\n",
        "\n",
        "# Calcular los límites del intervalo\n",
        "limite_inferior = media - intervalo\n",
        "limite_superior = media + intervalo\n",
        "\n",
        "# Redondear la media y el margen de error\n",
        "media_redondeada = round(media, 2)\n",
        "margen_error_redondeado = round(intervalo, 2)\n",
        "\n",
        "# Imprimir el resultado\n",
        "print(f\"La media poblacional de 'age' es {media_redondeada}, con un margen de error de {margen_error_redondeado} y una confiabilidad del {alpha * 100}%.\")"
      ],
      "metadata": {
        "colab": {
          "base_uri": "https://localhost:8080/"
        },
        "id": "QTg5v7ZECmQn",
        "outputId": "31778228-0662-4123-fabc-81c86e27ba28"
      },
      "execution_count": null,
      "outputs": [
        {
          "output_type": "stream",
          "name": "stdout",
          "text": [
            "La media poblacional de 'age' es 43.43, con un margen de error de 0.82 y una confiabilidad del 95.0%.\n"
          ]
        }
      ]
    },
    {
      "cell_type": "code",
      "source": [
        "#CÁLCULO DE LA MEDIA POBLACIONAL DE LA VARIABLE EARN CON DISTRIBUCIÓN T DEL DATAFRAME EN ESTUDIO.\n",
        "\n",
        "alpha = 0.95\n",
        "df_ganancias = df_ganancias['earn']\n",
        "a, b = st.t.interval(confidence=alpha, df=len(df_ganancias) - 1, loc=df_ganancias.mean(), scale=df_ganancias.sem())\n",
        "error = round(b - df_ganancias.mean(), 2)\n",
        "media_estimada = round(df_ganancias.mean(), 2)\n",
        "conf=alpha*100\n",
        "print(f'La media poblacional para la variable earn es de: {media_estimada}, con un margen de error de: {error} y confiabilidad del {conf}%')"
      ],
      "metadata": {
        "colab": {
          "base_uri": "https://localhost:8080/"
        },
        "id": "KqC58_eh4Q2V",
        "outputId": "c4470832-24b7-4b0d-d63c-562f655d72b7"
      },
      "execution_count": null,
      "outputs": [
        {
          "output_type": "stream",
          "name": "stdout",
          "text": [
            "La media poblacional para la variable earn es de: 21655.62, con un margen de error de: 1086.34 y confiabilidad del 95.0%\n"
          ]
        }
      ]
    },
    {
      "cell_type": "code",
      "source": [
        "#CÁLCULO DE LA MEDIA POBLACIONAL DE LA VARIABLE EARN CON DISTRIBUCIÓN T DEL DATAFRAME EN ESTUDIO.\n",
        "\n",
        "alpha = 0.95\n",
        "df_ganancias = df_ganancias['height']\n",
        "a, b = st.t.interval(confidence=alpha, df=len(df_ganancias) - 1, loc=df_ganancias.mean(), scale=df_ganancias.sem())\n",
        "error = round(b - df_ganancias.mean(), 2)\n",
        "media_estimada = round(df_ganancias.mean(), 2)\n",
        "conf=alpha*100\n",
        "print(f'La media poblacional para la variable height es de: {media_estimada}, con un margen de error de: {error} y confiabilidad del {conf}%')"
      ],
      "metadata": {
        "colab": {
          "base_uri": "https://localhost:8080/"
        },
        "id": "17KPw-3qF93v",
        "outputId": "60fc8965-1631-4876-cdc7-1054167f171a"
      },
      "execution_count": null,
      "outputs": [
        {
          "output_type": "stream",
          "name": "stdout",
          "text": [
            "La media poblacional para la variable height es de: 66.63, con un margen de error de: 0.18 y confiabilidad del 95.0%\n"
          ]
        }
      ]
    },
    {
      "cell_type": "code",
      "source": [
        "#CÁLCULO DE LA MEDIA POBLACIONAL DE LA VARIABLE EARN CON DISTRIBUCIÓN T DEL DATAFRAME EN ESTUDIO.\n",
        "\n",
        "alpha = 0.95\n",
        "df_ganancias = df_ganancias['age']\n",
        "a, b = st.t.interval(confidence=alpha, df=len(df_ganancias) - 1, loc=df_ganancias.mean(), scale=df_ganancias.sem())\n",
        "error = round(b - df_ganancias.mean(), 2)\n",
        "media_estimada = round(df_ganancias.mean(), 2)\n",
        "conf=alpha*100\n",
        "print(f'La media poblacional para la variable age es de: {media_estimada}, con un margen de error de: {error} y confiabilidad del {conf}%')"
      ],
      "metadata": {
        "colab": {
          "base_uri": "https://localhost:8080/"
        },
        "id": "Gqw02gLzGC3l",
        "outputId": "af324e58-a852-4ff7-880b-10ca33e8d5c8"
      },
      "execution_count": null,
      "outputs": [
        {
          "output_type": "stream",
          "name": "stdout",
          "text": [
            "La media poblacional para la variable age es de: 43.43, con un margen de error de: 0.82 y confiabilidad del 95.0%\n"
          ]
        }
      ]
    },
    {
      "cell_type": "code",
      "source": [
        "#CÁLCULO DE LA MEDIA POBLACIONAL DE LA VARIABLE HEIGHT DEL DATAFRAME EN ESTUDIO.\n",
        "\n",
        "\n",
        "# Calcular la media y el error estándar de la variable 'earn' en el DataFrame\n",
        "media = df_ganancias['earn'].mean()\n",
        "error_estandar = st.sem(df_ganancias['earn'])\n",
        "\n",
        "# Definir el nivel de confianza\n",
        "alpha = 0.95\n",
        "\n",
        "# Calcular el intervalo de confianza utilizando la distribución t de Student\n",
        "t_critico = st.t.ppf(1 - (1 - alpha) / 2, len(df_ganancias['earn']) - 1)\n",
        "intervalo = t_critico * error_estandar\n",
        "\n",
        "# Calcular los límites del intervalo\n",
        "limite_inferior = media - intervalo\n",
        "limite_superior = media + intervalo\n",
        "\n",
        "# Redondear la media y el margen de error\n",
        "media_redondeada = round(media, 2)\n",
        "margen_error_redondeado = round(intervalo, 2)\n",
        "\n",
        "# Imprimir el resultado\n",
        "print(f\"La media poblacional de 'earn' es {media_redondeada}, con un margen de error de {margen_error_redondeado} y una confiabilidad del {alpha * 100}%.\")"
      ],
      "metadata": {
        "colab": {
          "base_uri": "https://localhost:8080/"
        },
        "id": "M-_yDs_I0AdG",
        "outputId": "1d7115ba-b1c7-489d-90fd-d33c9c3b0bd3"
      },
      "execution_count": null,
      "outputs": [
        {
          "output_type": "stream",
          "name": "stdout",
          "text": [
            "La media poblacional de 'earn' es 21655.62, con un margen de error de 1086.34 y una confiabilidad del 95.0%.\n"
          ]
        }
      ]
    },
    {
      "cell_type": "code",
      "source": [
        "#CÁLCULO DE LA MEDIA POBLACIONAL DE LA VAIABLE HEIGHT DEL DATAFRAME EN ESTUDIO.\n",
        "\n",
        "\n",
        "# Calcular la media y el error estándar de la variable 'earn' en el DataFrame\n",
        "media = df_ganancias['height'].mean()\n",
        "error_estandar = st.sem(df_ganancias['height'])\n",
        "\n",
        "# Definir el nivel de confianza\n",
        "alpha = 0.95\n",
        "\n",
        "# Calcular el intervalo de confianza utilizando la distribución t de Student\n",
        "t_critico = st.t.ppf(1 - (1 - alpha) / 2, len(df_ganancias['height']) - 1)\n",
        "intervalo = t_critico * error_estandar\n",
        "\n",
        "# Calcular los límites del intervalo\n",
        "limite_inferior = media - intervalo\n",
        "limite_superior = media + intervalo\n",
        "\n",
        "# Redondear la media y el margen de error\n",
        "media_redondeada = round(media, 2)\n",
        "margen_error_redondeado = round(intervalo, 2)\n",
        "\n",
        "# Imprimir el resultado\n",
        "print(f\"La media poblacional de 'height' es {media_redondeada}, con un margen de error de {margen_error_redondeado} y una confiabilidad del {alpha * 100}%.\")"
      ],
      "metadata": {
        "colab": {
          "base_uri": "https://localhost:8080/"
        },
        "id": "Y5UMLsHAl1kN",
        "outputId": "7ee11492-542e-4cf8-f143-a8b8d1058be9"
      },
      "execution_count": null,
      "outputs": [
        {
          "output_type": "stream",
          "name": "stdout",
          "text": [
            "La media poblacional de 'height' es 66.57, con un margen de error de 0.18 y una confiabilidad del 95.0%.\n"
          ]
        }
      ]
    },
    {
      "cell_type": "code",
      "source": [
        "#CÁLCULO DE LA MEDIA POBLACIONAL DE LA VAIABLE AGE DEL DATAFRAME EN ESTUDIO.\n",
        "\n",
        "# Calcular la media y el error estándar de la variable 'earn' en el DataFrame\n",
        "media = df_ganancias['age'].mean()\n",
        "error_estandar = st.sem(df_ganancias['age'])\n",
        "\n",
        "# Definir el nivel de confianza\n",
        "alpha = 0.95\n",
        "\n",
        "# Calcular el intervalo de confianza utilizando la distribución t de Student\n",
        "t_critico = st.t.ppf(1 - (1 - alpha) / 2, len(df_ganancias['age']) - 1)\n",
        "intervalo = t_critico * error_estandar\n",
        "\n",
        "# Calcular los límites del intervalo\n",
        "limite_inferior = media - intervalo\n",
        "limite_superior = media + intervalo\n",
        "\n",
        "# Redondear la media y el margen de error\n",
        "media_redondeada = round(media, 2)\n",
        "margen_error_redondeado = round(intervalo, 2)\n",
        "\n",
        "# Imprimir el resultado\n",
        "print(f\"La media poblacional de 'age' es {media_redondeada}, con un margen de error de {margen_error_redondeado} y una confiabilidad del {alpha * 100}%.\")"
      ],
      "metadata": {
        "colab": {
          "base_uri": "https://localhost:8080/"
        },
        "id": "yozGTgUGkhrv",
        "outputId": "15c21a5d-9aa9-4a0f-c4ec-5ce6a979f817"
      },
      "execution_count": null,
      "outputs": [
        {
          "output_type": "stream",
          "name": "stdout",
          "text": [
            "La media poblacional de 'age' es 42.93, con un margen de error de 0.79 y una confiabilidad del 95.0%.\n"
          ]
        }
      ]
    },
    {
      "cell_type": "markdown",
      "source": [
        "# **INTERPRETACIÓN DE LOS RESULTADOS**:\n",
        "\n",
        "---\n",
        "####Como podemos visualizar, con el cálculo de la media de las columnas y posteriormente realizando modelos de distribución normal y de t student, los resultados son símiles para las variables \"age\", \"height\" y \"age\", por lo que se puede inferir lo siguiente:\n",
        "\n",
        "\n",
        "\n",
        "\n",
        "1.   **Variable \"earn\"**: Según ambos modelos, se estima que la media de la variable en estudio se encuentra en 21,6555.62, con un margen de error de 1,086.34, de lo cual se infiere que de realizarse el mismo estudio con N repeticiones, en el 95% de los casos la media real se encontraría dentro del rango antes señalado. En síntesis, podríamos decir que existe un alto grado de confianza de que la verdadera media poblacional de la variable \"earn\" se encuentre entre 20,569.28 y 22,741.96 años. Extrayedo directamente la media de la columna, esta nos arroja 21,656, por los que los cálculos son correctos.\n",
        "2.   **Variable \"height\"**: Según ambos modelos, se estima que la media de la variable en estudio se encuentra en 66.57, con un margen de error de 0.18. En síntesis, podríamos decir que existe un alto grado de confianza de que la verdadera media poblacional de la variable \"height\" se encuentre entre 66.30 y 66.75 (pulgadas). Extrayendo directamente la media de la columna, esta nos arroja 67 pulgadas, por los que los cálculos son correctos.\n",
        "3.   **Variable \"age\"**: Según ambos modelos, se estima que la media de la variable en estudio se encuebntra en 42.93 años, con un margen de error de 0.79 años, de lo cual se infiere que de realizarse el mismo estudio con N repeticiones, en el 95% de los casos la media real se encontraría dentro del rango antes señalado. En síntesis, podríamos decir que existe un alto grado de confianza de que la verdadera media poblacional de la variable \"age\" se encuentre entre 42.14 y 43.72 años. Extrayendo directamente la media de la columna, esta nos arroja 43 años, por los que los cálculos son correctos.\n",
        "\n",
        "\n",
        "\n",
        "\n",
        "\n",
        "\n",
        "\n",
        "\n",
        "\n",
        "\n"
      ],
      "metadata": {
        "id": "b9nNisRhh4-m"
      }
    },
    {
      "cell_type": "markdown",
      "source": [
        "# **PREGUNTA Nº 2: CREA UNA FUNCIÓN QUE ESTIME LA PROPORCIÓN DE HOMBRES EN EL DATASET, CONSIDERANDO UNA MUESTRA DE 50 INDIVIDUOS, CON NIVELES DE SIGNIFICANCIA DE 0,05 Y 0,01. ESCRIBE CON PALABRAS TUS RESULTADOS, EJECUTA LA FUNCIÓN E INTERPRETA. COMPARA CON LA PROPORCIÓN REAL**.\n",
        "\n"
      ],
      "metadata": {
        "id": "tkDFAyRTcBhn"
      }
    },
    {
      "cell_type": "code",
      "source": [
        "#REVISIÓN DE DATOS DE LA VARIABLE EN ESTUDIO.\n",
        "\n",
        "df_earnings[['male']].info()"
      ],
      "metadata": {
        "colab": {
          "base_uri": "https://localhost:8080/"
        },
        "id": "pJzMS91zfi_6",
        "outputId": "407b3ad7-3476-486c-a71c-5601ec057bf6"
      },
      "execution_count": null,
      "outputs": [
        {
          "output_type": "stream",
          "name": "stdout",
          "text": [
            "<class 'pandas.core.frame.DataFrame'>\n",
            "RangeIndex: 1816 entries, 0 to 1815\n",
            "Data columns (total 1 columns):\n",
            " #   Column  Non-Null Count  Dtype\n",
            "---  ------  --------------  -----\n",
            " 0   male    1816 non-null   int64\n",
            "dtypes: int64(1)\n",
            "memory usage: 14.3 KB\n"
          ]
        }
      ]
    },
    {
      "cell_type": "code",
      "source": [
        "#REVISIÓN DE DATOS NULOS.\n",
        "\n",
        "df_earnings[['male']].isnull().sum()"
      ],
      "metadata": {
        "colab": {
          "base_uri": "https://localhost:8080/"
        },
        "id": "aJydCVTafitQ",
        "outputId": "72baa470-d54d-45d8-dd3d-f09ebec600c1"
      },
      "execution_count": null,
      "outputs": [
        {
          "output_type": "execute_result",
          "data": {
            "text/plain": [
              "male    0\n",
              "dtype: int64"
            ]
          },
          "metadata": {},
          "execution_count": 13
        }
      ]
    },
    {
      "cell_type": "code",
      "source": [
        "#REVISIÓN CANTIDAD DE INDIVIDUOS DEL GÉNERO MASCULINO.\n",
        "df_earnings[['male']].value_counts()"
      ],
      "metadata": {
        "colab": {
          "base_uri": "https://localhost:8080/"
        },
        "id": "wyJ43nAVgM7o",
        "outputId": "d5443c28-ded5-42f7-c474-625ed3c1bb9e"
      },
      "execution_count": null,
      "outputs": [
        {
          "output_type": "execute_result",
          "data": {
            "text/plain": [
              "male\n",
              "0       1141\n",
              "1        675\n",
              "Name: count, dtype: int64"
            ]
          },
          "metadata": {},
          "execution_count": 14
        }
      ]
    },
    {
      "cell_type": "code",
      "source": [
        "#FILTRO PARA DETEMINAR CANTIDAD DE INDIVIDUOS DEL GÉNERO MASCULINO.\n",
        "\n",
        "gender_male = df_earnings[df_earnings['male'] == 1].shape[0]\n",
        "print(gender_male)"
      ],
      "metadata": {
        "colab": {
          "base_uri": "https://localhost:8080/"
        },
        "id": "nnoaroFLgVyW",
        "outputId": "28c36d98-0191-4e66-996b-df7c92304827"
      },
      "execution_count": null,
      "outputs": [
        {
          "output_type": "stream",
          "name": "stdout",
          "text": [
            "675\n"
          ]
        }
      ]
    },
    {
      "cell_type": "code",
      "source": [
        "#FUNCIÓN QUE ESTIMA LA PROPORCIÓN DE INDIVIDUOS DEL GÉNERO MASCULINO, CONSIDERANDO UNA MUESTRA DE TAMAÑO 50, CON NIVELES DE SIGNIFICANCIA DE 0.05.\n",
        "\n",
        "import pandas as pd\n",
        "import numpy as np\n",
        "from scipy.stats import norm\n",
        "\n",
        "\n",
        "def estimar_proporcion_hombres(df, mu_0=0.5, alpha=0.05):\n",
        "    \"\"\"\n",
        "    Estima si la proporción de hombres en una muestra es significativamente diferente de la proporción real.\n",
        "\n",
        "    Parameters:\n",
        "        df (DataFrame): El DataFrame que contiene los datos.\n",
        "        mu_0 (float): La proporción real de hombres bajo la hipótesis nula. Por defecto, 0.5.\n",
        "        alpha (float): Nivel de significancia. Por defecto, 0.05.\n",
        "\n",
        "    Returns:\n",
        "        str: Un mensaje indicando si se rechaza o no la hipótesis nula.\n",
        "    \"\"\"\n",
        "    # Tamaño de la muestra\n",
        "    total_muestra = len(df)\n",
        "\n",
        "    # Contar la cantidad de hombres en la muestra\n",
        "    num_hombres = np.sum(df['male'] == 1)\n",
        "\n",
        "    # Proporción estimada de hombres en la muestra\n",
        "    proporcion_estimada = num_hombres / total_muestra\n",
        "\n",
        "    # Estadístico de prueba (estadístico Z)\n",
        "    z = (proporcion_estimada - mu_0) / np.sqrt(mu_0 * (1 - mu_0) / total_muestra)\n",
        "\n",
        "    # Calculamos el valor crítico\n",
        "    z_critico = norm.ppf(1 - alpha/2)\n",
        "\n",
        "    # Comparamos el estadístico de prueba con el valor crítico\n",
        "    if abs(z) <= z_critico:\n",
        "        resultado = f\"Con un nivel de confianza del {100*(1-alpha)}%, la proporción estimada de hombres es consistente con la proporción real (no se rechaza la hipótesis nula)\"\n",
        "    else:\n",
        "        resultado = f\"Con un nivel de confianza del {100*(1-alpha)}%, la proporción estimada de hombres es significativamente diferente de la proporción real (se rechaza la hipótesis nula)\"\n",
        "\n",
        "    return resultado\n",
        "\n",
        "resultado_prueba = estimar_proporcion_hombres(df_earnings)\n",
        "print(resultado_prueba)"
      ],
      "metadata": {
        "colab": {
          "base_uri": "https://localhost:8080/"
        },
        "id": "pppB4EHhetIm",
        "outputId": "4c8bdf09-5efd-4fd2-b963-12929579b85e"
      },
      "execution_count": null,
      "outputs": [
        {
          "output_type": "stream",
          "name": "stdout",
          "text": [
            "Con un nivel de confianza del 95.0%, la proporción estimada de hombres es significativamente diferente de la proporción real (se rechaza la hipótesis nula)\n"
          ]
        }
      ]
    },
    {
      "cell_type": "markdown",
      "source": [
        "# **INTERPRETACIÓN DE LOS RESULTADOS**:\n",
        "\n",
        "---\n",
        "####La función creada tiene por objeto realizar un análisis de hipótesis a fin de determinar si la proporción de hombres de la muestra especificada es significativamente diferente a la proporción real otorgada en la función misma, otorgando un nivel de significancia. En el caso en concreto, un nivel de 0.05.\n",
        "\n",
        "\n",
        "\n",
        "1.   Primeramente, la función calcula el tamaño total de la muestra y luego realiza un conteo de la cantidad de individuos de género masculino de esta. A su vez, calcula la proporción de hombres que existe en la muestra, operación que realiza dividiendo el número total por el del tamaño de la muestra.\n",
        "2.   La función se crea bajo un modelo estadístico Z, que es una prueba de hipótesis que sigue una distribución normal, pues se busca evaluar un parámetro poblacional, en el caso en concreto,la proporción de individuos de género masculino y de una muestra poblaiconal y no muestral. Se elige este modelo por contar con datos suficietes para evaluar diferencias entre una proporción estimada y una proporciónb real (y su desviación estándar).\n",
        "3.  Lo que se busca con la función es determinar si existe una diferencia significtiva entre la proporción real y la proporción estimada de individuos de género masculino dentro del dataset, considerado éste como una muestra del total poblacional.\n",
        "4.  Utilizando la función z_crítico y el nivel de significancia, podemos medir la región crítica, la que permitiría rechazar la H0.\n",
        "5.  Finalmente, se compara la región crítica y el estadístico de prueba (cantidad de la población y tamaño de la muestra), se determina si se rechaza o no la H0.\n",
        "\n",
        "####**CONSIDERACIONES PREVIAS**:\n",
        "*   Al indicarle a la función un nivel de significancia de 0.05, se le está señalando que existe un 95% de probabilidad de que los resultados de la prueba sean válidos, y que existe un 5% de posibilidad de error, siendo este último márgen el que permitiría rechazar la H0 cuando debiese ser verdadera.\n",
        "*   El resultado de la prueba señala que existe evidencia suficiente para rechazar la H0 (esto es, que la proporción de hombres en la muestra es igual a la proporción real).\n",
        "*   Sin perjuicio de lo anterio, con el filtro previo realizado, sabemos que existe una diferencia significativa entre la proporción real y la proporción muestral, por ende, los datos muestrales no se asemejan a la realidad.\n",
        "*   Elemento de la lista\n",
        "\n",
        "####**CONCLUSIÓN**: La H0 es rechazada porque la proporción estimada de individuos de género masculino es significativamente diferente a la proporción real de los mismos, por ende, se infiere que la muestra proporciona evidencia suficiente para rechazar la hipótesis inicial (igualdad entre la proporción muestral y la real). Ello dado que la hipótesis alternativa, que implica que la proporción de hombres es diferente a la proporción real, resulta ser más cercana a la realidad, más plausible. Es por ello que con un nivel de confianza de un 95% se considera que existe evidencia suficiente para inferir que la proporción muestral es diferente a la proporción real, rechazándose, de esta forma, la H0 a favor de la H1.\n",
        "\n",
        "####**IMPORTANTE**: Lo mismo ocurre ingresando a la función un nivel de significancia de 0.01, dado que señalamos que existe un 99% de probabilidad de que los resultados de la prueba sean correctos, versus un porcentaje del 1% de margen o posibilidad de error."
      ],
      "metadata": {
        "id": "uk_bBwRx5aGJ"
      }
    },
    {
      "cell_type": "code",
      "source": [
        "#FUNCIÓN QUE ESTIMA LA PROPORCIÓN DE INDIVIDUOS DEL GÉNERO MASCULINO, CONSIDERANDO UNA MUESTRA DE TAMAÑO 50, CON NIVELES DE SIGNIFICANCIA DE 0.01.\n",
        "\n",
        "\n",
        "def estimar_proporcion_hombres(df, mu_0=0.1, alpha=0.05):\n",
        "    \"\"\"\n",
        "    Estima si la proporción de hombres en una muestra es significativamente diferente de la proporción real.\n",
        "\n",
        "    Parameters:\n",
        "        df (DataFrame): El DataFrame que contiene los datos.\n",
        "        mu_0 (float): La proporción real de hombres bajo la hipótesis nula. Por defecto, 0.1.\n",
        "        alpha (float): Nivel de significancia. Por defecto, 0.05.\n",
        "\n",
        "    Returns:\n",
        "        str: Un mensaje indicando si se rechaza o no la hipótesis nula.\n",
        "    \"\"\"\n",
        "    # Tamaño de la muestra\n",
        "    total_muestra = len(df)\n",
        "\n",
        "    # Contar la cantidad de hombres en la muestra\n",
        "    num_hombres = np.sum(df['male'] == 1)\n",
        "\n",
        "    # Proporción estimada de hombres en la muestra\n",
        "    proporcion_estimada = num_hombres / total_muestra\n",
        "\n",
        "    # Estadístico de prueba (estadístico Z)\n",
        "    z = (proporcion_estimada - mu_0) / np.sqrt(mu_0 * (1 - mu_0) / total_muestra)\n",
        "\n",
        "    # Calculamos el valor crítico\n",
        "    z_critico = norm.ppf(1 - alpha/2)\n",
        "\n",
        "    # Comparamos el estadístico de prueba con el valor crítico\n",
        "    if abs(z) <= z_critico:\n",
        "        resultado = f\"Con un nivel de confianza del {100*(1-alpha)}%, la proporción estimada de hombres es consistente con la proporción real (no se rechaza la hipótesis nula)\"\n",
        "    else:\n",
        "        resultado = f\"Con un nivel de confianza del {100*(1-alpha)}%, la proporción estimada de hombres es significativamente diferente de la proporción real (se rechaza la hipótesis nula)\"\n",
        "\n",
        "    return resultado\n",
        "\n",
        "resultado_prueba = estimar_proporcion_hombres(df_earnings)\n",
        "print(resultado_prueba)"
      ],
      "metadata": {
        "colab": {
          "base_uri": "https://localhost:8080/"
        },
        "id": "3oQ0K37VfMq6",
        "outputId": "d3738249-28ad-4436-e916-517d986f6a31"
      },
      "execution_count": null,
      "outputs": [
        {
          "output_type": "stream",
          "name": "stdout",
          "text": [
            "Con un nivel de confianza del 95.0%, la proporción estimada de hombres es significativamente diferente de la proporción real (se rechaza la hipótesis nula)\n"
          ]
        }
      ]
    },
    {
      "cell_type": "markdown",
      "source": [],
      "metadata": {
        "id": "asEnWJZhfdcY"
      }
    },
    {
      "cell_type": "markdown",
      "source": [
        "# **PREGUNTA Nº 3:** **CONSIDERANDO EL DATASET COMO UNA MUESTRA, VERIFICA SI EL GÉNERO (MALE=1 SIGNIFICA \"HOMBRE\") INFLUYE SOBRE EL SUELDO \"EARN\" DE LAS PERSONAS. EXPLICA Y JUSTIFICA TU PROCEDIMIENTO**."
      ],
      "metadata": {
        "id": "DhoYlp0wWOr5"
      }
    },
    {
      "cell_type": "code",
      "source": [
        "#REVISIÓN DE LOS PRIMEROS 3 REGISTROS DEL DATAFRAME.\n",
        "\n",
        "df_earnings.head(2)"
      ],
      "metadata": {
        "colab": {
          "base_uri": "https://localhost:8080/",
          "height": 130
        },
        "id": "xjvsQvtbVCjr",
        "outputId": "6099c846-36aa-420e-f85d-3a28eff26081"
      },
      "execution_count": null,
      "outputs": [
        {
          "output_type": "execute_result",
          "data": {
            "text/plain": [
              "   height  weight  male     earn  earnk ethnicity  education  \\\n",
              "0      74   210.0     1  50000.0   50.0     White       16.0   \n",
              "1      66   125.0     0  60000.0   60.0     White       16.0   \n",
              "\n",
              "   mother_education  father_education  walk  exercise  smokenow  tense  angry  \\\n",
              "0              16.0              16.0     3         3       2.0    0.0    0.0   \n",
              "1              16.0              16.0     6         5       1.0    0.0    0.0   \n",
              "\n",
              "   age  \n",
              "0   45  \n",
              "1   58  "
            ],
            "text/html": [
              "\n",
              "  <div id=\"df-ad5c4ee3-62fb-416e-8681-1d52f63f284a\" class=\"colab-df-container\">\n",
              "    <div>\n",
              "<style scoped>\n",
              "    .dataframe tbody tr th:only-of-type {\n",
              "        vertical-align: middle;\n",
              "    }\n",
              "\n",
              "    .dataframe tbody tr th {\n",
              "        vertical-align: top;\n",
              "    }\n",
              "\n",
              "    .dataframe thead th {\n",
              "        text-align: right;\n",
              "    }\n",
              "</style>\n",
              "<table border=\"1\" class=\"dataframe\">\n",
              "  <thead>\n",
              "    <tr style=\"text-align: right;\">\n",
              "      <th></th>\n",
              "      <th>height</th>\n",
              "      <th>weight</th>\n",
              "      <th>male</th>\n",
              "      <th>earn</th>\n",
              "      <th>earnk</th>\n",
              "      <th>ethnicity</th>\n",
              "      <th>education</th>\n",
              "      <th>mother_education</th>\n",
              "      <th>father_education</th>\n",
              "      <th>walk</th>\n",
              "      <th>exercise</th>\n",
              "      <th>smokenow</th>\n",
              "      <th>tense</th>\n",
              "      <th>angry</th>\n",
              "      <th>age</th>\n",
              "    </tr>\n",
              "  </thead>\n",
              "  <tbody>\n",
              "    <tr>\n",
              "      <th>0</th>\n",
              "      <td>74</td>\n",
              "      <td>210.0</td>\n",
              "      <td>1</td>\n",
              "      <td>50000.0</td>\n",
              "      <td>50.0</td>\n",
              "      <td>White</td>\n",
              "      <td>16.0</td>\n",
              "      <td>16.0</td>\n",
              "      <td>16.0</td>\n",
              "      <td>3</td>\n",
              "      <td>3</td>\n",
              "      <td>2.0</td>\n",
              "      <td>0.0</td>\n",
              "      <td>0.0</td>\n",
              "      <td>45</td>\n",
              "    </tr>\n",
              "    <tr>\n",
              "      <th>1</th>\n",
              "      <td>66</td>\n",
              "      <td>125.0</td>\n",
              "      <td>0</td>\n",
              "      <td>60000.0</td>\n",
              "      <td>60.0</td>\n",
              "      <td>White</td>\n",
              "      <td>16.0</td>\n",
              "      <td>16.0</td>\n",
              "      <td>16.0</td>\n",
              "      <td>6</td>\n",
              "      <td>5</td>\n",
              "      <td>1.0</td>\n",
              "      <td>0.0</td>\n",
              "      <td>0.0</td>\n",
              "      <td>58</td>\n",
              "    </tr>\n",
              "  </tbody>\n",
              "</table>\n",
              "</div>\n",
              "    <div class=\"colab-df-buttons\">\n",
              "\n",
              "  <div class=\"colab-df-container\">\n",
              "    <button class=\"colab-df-convert\" onclick=\"convertToInteractive('df-ad5c4ee3-62fb-416e-8681-1d52f63f284a')\"\n",
              "            title=\"Convert this dataframe to an interactive table.\"\n",
              "            style=\"display:none;\">\n",
              "\n",
              "  <svg xmlns=\"http://www.w3.org/2000/svg\" height=\"24px\" viewBox=\"0 -960 960 960\">\n",
              "    <path d=\"M120-120v-720h720v720H120Zm60-500h600v-160H180v160Zm220 220h160v-160H400v160Zm0 220h160v-160H400v160ZM180-400h160v-160H180v160Zm440 0h160v-160H620v160ZM180-180h160v-160H180v160Zm440 0h160v-160H620v160Z\"/>\n",
              "  </svg>\n",
              "    </button>\n",
              "\n",
              "  <style>\n",
              "    .colab-df-container {\n",
              "      display:flex;\n",
              "      gap: 12px;\n",
              "    }\n",
              "\n",
              "    .colab-df-convert {\n",
              "      background-color: #E8F0FE;\n",
              "      border: none;\n",
              "      border-radius: 50%;\n",
              "      cursor: pointer;\n",
              "      display: none;\n",
              "      fill: #1967D2;\n",
              "      height: 32px;\n",
              "      padding: 0 0 0 0;\n",
              "      width: 32px;\n",
              "    }\n",
              "\n",
              "    .colab-df-convert:hover {\n",
              "      background-color: #E2EBFA;\n",
              "      box-shadow: 0px 1px 2px rgba(60, 64, 67, 0.3), 0px 1px 3px 1px rgba(60, 64, 67, 0.15);\n",
              "      fill: #174EA6;\n",
              "    }\n",
              "\n",
              "    .colab-df-buttons div {\n",
              "      margin-bottom: 4px;\n",
              "    }\n",
              "\n",
              "    [theme=dark] .colab-df-convert {\n",
              "      background-color: #3B4455;\n",
              "      fill: #D2E3FC;\n",
              "    }\n",
              "\n",
              "    [theme=dark] .colab-df-convert:hover {\n",
              "      background-color: #434B5C;\n",
              "      box-shadow: 0px 1px 3px 1px rgba(0, 0, 0, 0.15);\n",
              "      filter: drop-shadow(0px 1px 2px rgba(0, 0, 0, 0.3));\n",
              "      fill: #FFFFFF;\n",
              "    }\n",
              "  </style>\n",
              "\n",
              "    <script>\n",
              "      const buttonEl =\n",
              "        document.querySelector('#df-ad5c4ee3-62fb-416e-8681-1d52f63f284a button.colab-df-convert');\n",
              "      buttonEl.style.display =\n",
              "        google.colab.kernel.accessAllowed ? 'block' : 'none';\n",
              "\n",
              "      async function convertToInteractive(key) {\n",
              "        const element = document.querySelector('#df-ad5c4ee3-62fb-416e-8681-1d52f63f284a');\n",
              "        const dataTable =\n",
              "          await google.colab.kernel.invokeFunction('convertToInteractive',\n",
              "                                                    [key], {});\n",
              "        if (!dataTable) return;\n",
              "\n",
              "        const docLinkHtml = 'Like what you see? Visit the ' +\n",
              "          '<a target=\"_blank\" href=https://colab.research.google.com/notebooks/data_table.ipynb>data table notebook</a>'\n",
              "          + ' to learn more about interactive tables.';\n",
              "        element.innerHTML = '';\n",
              "        dataTable['output_type'] = 'display_data';\n",
              "        await google.colab.output.renderOutput(dataTable, element);\n",
              "        const docLink = document.createElement('div');\n",
              "        docLink.innerHTML = docLinkHtml;\n",
              "        element.appendChild(docLink);\n",
              "      }\n",
              "    </script>\n",
              "  </div>\n",
              "\n",
              "\n",
              "<div id=\"df-2cbc55d7-c655-4d15-bd4e-ce2913d893e4\">\n",
              "  <button class=\"colab-df-quickchart\" onclick=\"quickchart('df-2cbc55d7-c655-4d15-bd4e-ce2913d893e4')\"\n",
              "            title=\"Suggest charts\"\n",
              "            style=\"display:none;\">\n",
              "\n",
              "<svg xmlns=\"http://www.w3.org/2000/svg\" height=\"24px\"viewBox=\"0 0 24 24\"\n",
              "     width=\"24px\">\n",
              "    <g>\n",
              "        <path d=\"M19 3H5c-1.1 0-2 .9-2 2v14c0 1.1.9 2 2 2h14c1.1 0 2-.9 2-2V5c0-1.1-.9-2-2-2zM9 17H7v-7h2v7zm4 0h-2V7h2v10zm4 0h-2v-4h2v4z\"/>\n",
              "    </g>\n",
              "</svg>\n",
              "  </button>\n",
              "\n",
              "<style>\n",
              "  .colab-df-quickchart {\n",
              "      --bg-color: #E8F0FE;\n",
              "      --fill-color: #1967D2;\n",
              "      --hover-bg-color: #E2EBFA;\n",
              "      --hover-fill-color: #174EA6;\n",
              "      --disabled-fill-color: #AAA;\n",
              "      --disabled-bg-color: #DDD;\n",
              "  }\n",
              "\n",
              "  [theme=dark] .colab-df-quickchart {\n",
              "      --bg-color: #3B4455;\n",
              "      --fill-color: #D2E3FC;\n",
              "      --hover-bg-color: #434B5C;\n",
              "      --hover-fill-color: #FFFFFF;\n",
              "      --disabled-bg-color: #3B4455;\n",
              "      --disabled-fill-color: #666;\n",
              "  }\n",
              "\n",
              "  .colab-df-quickchart {\n",
              "    background-color: var(--bg-color);\n",
              "    border: none;\n",
              "    border-radius: 50%;\n",
              "    cursor: pointer;\n",
              "    display: none;\n",
              "    fill: var(--fill-color);\n",
              "    height: 32px;\n",
              "    padding: 0;\n",
              "    width: 32px;\n",
              "  }\n",
              "\n",
              "  .colab-df-quickchart:hover {\n",
              "    background-color: var(--hover-bg-color);\n",
              "    box-shadow: 0 1px 2px rgba(60, 64, 67, 0.3), 0 1px 3px 1px rgba(60, 64, 67, 0.15);\n",
              "    fill: var(--button-hover-fill-color);\n",
              "  }\n",
              "\n",
              "  .colab-df-quickchart-complete:disabled,\n",
              "  .colab-df-quickchart-complete:disabled:hover {\n",
              "    background-color: var(--disabled-bg-color);\n",
              "    fill: var(--disabled-fill-color);\n",
              "    box-shadow: none;\n",
              "  }\n",
              "\n",
              "  .colab-df-spinner {\n",
              "    border: 2px solid var(--fill-color);\n",
              "    border-color: transparent;\n",
              "    border-bottom-color: var(--fill-color);\n",
              "    animation:\n",
              "      spin 1s steps(1) infinite;\n",
              "  }\n",
              "\n",
              "  @keyframes spin {\n",
              "    0% {\n",
              "      border-color: transparent;\n",
              "      border-bottom-color: var(--fill-color);\n",
              "      border-left-color: var(--fill-color);\n",
              "    }\n",
              "    20% {\n",
              "      border-color: transparent;\n",
              "      border-left-color: var(--fill-color);\n",
              "      border-top-color: var(--fill-color);\n",
              "    }\n",
              "    30% {\n",
              "      border-color: transparent;\n",
              "      border-left-color: var(--fill-color);\n",
              "      border-top-color: var(--fill-color);\n",
              "      border-right-color: var(--fill-color);\n",
              "    }\n",
              "    40% {\n",
              "      border-color: transparent;\n",
              "      border-right-color: var(--fill-color);\n",
              "      border-top-color: var(--fill-color);\n",
              "    }\n",
              "    60% {\n",
              "      border-color: transparent;\n",
              "      border-right-color: var(--fill-color);\n",
              "    }\n",
              "    80% {\n",
              "      border-color: transparent;\n",
              "      border-right-color: var(--fill-color);\n",
              "      border-bottom-color: var(--fill-color);\n",
              "    }\n",
              "    90% {\n",
              "      border-color: transparent;\n",
              "      border-bottom-color: var(--fill-color);\n",
              "    }\n",
              "  }\n",
              "</style>\n",
              "\n",
              "  <script>\n",
              "    async function quickchart(key) {\n",
              "      const quickchartButtonEl =\n",
              "        document.querySelector('#' + key + ' button');\n",
              "      quickchartButtonEl.disabled = true;  // To prevent multiple clicks.\n",
              "      quickchartButtonEl.classList.add('colab-df-spinner');\n",
              "      try {\n",
              "        const charts = await google.colab.kernel.invokeFunction(\n",
              "            'suggestCharts', [key], {});\n",
              "      } catch (error) {\n",
              "        console.error('Error during call to suggestCharts:', error);\n",
              "      }\n",
              "      quickchartButtonEl.classList.remove('colab-df-spinner');\n",
              "      quickchartButtonEl.classList.add('colab-df-quickchart-complete');\n",
              "    }\n",
              "    (() => {\n",
              "      let quickchartButtonEl =\n",
              "        document.querySelector('#df-2cbc55d7-c655-4d15-bd4e-ce2913d893e4 button');\n",
              "      quickchartButtonEl.style.display =\n",
              "        google.colab.kernel.accessAllowed ? 'block' : 'none';\n",
              "    })();\n",
              "  </script>\n",
              "</div>\n",
              "\n",
              "    </div>\n",
              "  </div>\n"
            ],
            "application/vnd.google.colaboratory.intrinsic+json": {
              "type": "dataframe",
              "variable_name": "df_earnings",
              "summary": "{\n  \"name\": \"df_earnings\",\n  \"rows\": 1816,\n  \"fields\": [\n    {\n      \"column\": \"height\",\n      \"properties\": {\n        \"dtype\": \"number\",\n        \"std\": 3,\n        \"min\": 57,\n        \"max\": 82,\n        \"num_unique_values\": 23,\n        \"samples\": [\n          61,\n          70,\n          74\n        ],\n        \"semantic_type\": \"\",\n        \"description\": \"\"\n      }\n    },\n    {\n      \"column\": \"weight\",\n      \"properties\": {\n        \"dtype\": \"number\",\n        \"std\": 34.617059469205266,\n        \"min\": 80.0,\n        \"max\": 342.0,\n        \"num_unique_values\": 148,\n        \"samples\": [\n          139.0,\n          215.0,\n          99.0\n        ],\n        \"semantic_type\": \"\",\n        \"description\": \"\"\n      }\n    },\n    {\n      \"column\": \"male\",\n      \"properties\": {\n        \"dtype\": \"number\",\n        \"std\": 0,\n        \"min\": 0,\n        \"max\": 1,\n        \"num_unique_values\": 2,\n        \"samples\": [\n          0,\n          1\n        ],\n        \"semantic_type\": \"\",\n        \"description\": \"\"\n      }\n    },\n    {\n      \"column\": \"earn\",\n      \"properties\": {\n        \"dtype\": \"number\",\n        \"std\": 22531.76512330289,\n        \"min\": 0.0,\n        \"max\": 400000.0,\n        \"num_unique_values\": 137,\n        \"samples\": [\n          7200.0,\n          18600.0\n        ],\n        \"semantic_type\": \"\",\n        \"description\": \"\"\n      }\n    },\n    {\n      \"column\": \"earnk\",\n      \"properties\": {\n        \"dtype\": \"number\",\n        \"std\": 22.53176512330289,\n        \"min\": 0.0,\n        \"max\": 400.0,\n        \"num_unique_values\": 137,\n        \"samples\": [\n          7.2,\n          18.6\n        ],\n        \"semantic_type\": \"\",\n        \"description\": \"\"\n      }\n    },\n    {\n      \"column\": \"ethnicity\",\n      \"properties\": {\n        \"dtype\": \"category\",\n        \"num_unique_values\": 4,\n        \"samples\": [\n          \"Other\",\n          \"Hispanic\"\n        ],\n        \"semantic_type\": \"\",\n        \"description\": \"\"\n      }\n    },\n    {\n      \"column\": \"education\",\n      \"properties\": {\n        \"dtype\": \"number\",\n        \"std\": 2.556637843200102,\n        \"min\": 2.0,\n        \"max\": 18.0,\n        \"num_unique_values\": 17,\n        \"samples\": [\n          16.0,\n          17.0\n        ],\n        \"semantic_type\": \"\",\n        \"description\": \"\"\n      }\n    },\n    {\n      \"column\": \"mother_education\",\n      \"properties\": {\n        \"dtype\": \"number\",\n        \"std\": 3.219371551381508,\n        \"min\": 3.0,\n        \"max\": 99.0,\n        \"num_unique_values\": 17,\n        \"samples\": [\n          16.0,\n          17.0\n        ],\n        \"semantic_type\": \"\",\n        \"description\": \"\"\n      }\n    },\n    {\n      \"column\": \"father_education\",\n      \"properties\": {\n        \"dtype\": \"number\",\n        \"std\": 3.2508111459043354,\n        \"min\": 3.0,\n        \"max\": 99.0,\n        \"num_unique_values\": 17,\n        \"samples\": [\n          16.0,\n          18.0\n        ],\n        \"semantic_type\": \"\",\n        \"description\": \"\"\n      }\n    },\n    {\n      \"column\": \"walk\",\n      \"properties\": {\n        \"dtype\": \"number\",\n        \"std\": 2,\n        \"min\": 1,\n        \"max\": 8,\n        \"num_unique_values\": 8,\n        \"samples\": [\n          6,\n          7\n        ],\n        \"semantic_type\": \"\",\n        \"description\": \"\"\n      }\n    },\n    {\n      \"column\": \"exercise\",\n      \"properties\": {\n        \"dtype\": \"number\",\n        \"std\": 2,\n        \"min\": 1,\n        \"max\": 7,\n        \"num_unique_values\": 7,\n        \"samples\": [\n          3,\n          5\n        ],\n        \"semantic_type\": \"\",\n        \"description\": \"\"\n      }\n    },\n    {\n      \"column\": \"smokenow\",\n      \"properties\": {\n        \"dtype\": \"number\",\n        \"std\": 0.4357254529423156,\n        \"min\": 1.0,\n        \"max\": 2.0,\n        \"num_unique_values\": 2,\n        \"samples\": [\n          1.0,\n          2.0\n        ],\n        \"semantic_type\": \"\",\n        \"description\": \"\"\n      }\n    },\n    {\n      \"column\": \"tense\",\n      \"properties\": {\n        \"dtype\": \"number\",\n        \"std\": 2.1578504637123728,\n        \"min\": 0.0,\n        \"max\": 7.0,\n        \"num_unique_values\": 8,\n        \"samples\": [\n          1.0,\n          3.0\n        ],\n        \"semantic_type\": \"\",\n        \"description\": \"\"\n      }\n    },\n    {\n      \"column\": \"angry\",\n      \"properties\": {\n        \"dtype\": \"number\",\n        \"std\": 2.1578504637123728,\n        \"min\": 0.0,\n        \"max\": 7.0,\n        \"num_unique_values\": 8,\n        \"samples\": [\n          1.0,\n          3.0\n        ],\n        \"semantic_type\": \"\",\n        \"description\": \"\"\n      }\n    },\n    {\n      \"column\": \"age\",\n      \"properties\": {\n        \"dtype\": \"number\",\n        \"std\": 17,\n        \"min\": 18,\n        \"max\": 91,\n        \"num_unique_values\": 74,\n        \"samples\": [\n          91,\n          64\n        ],\n        \"semantic_type\": \"\",\n        \"description\": \"\"\n      }\n    }\n  ]\n}"
            }
          },
          "metadata": {},
          "execution_count": 21
        }
      ]
    },
    {
      "cell_type": "code",
      "source": [
        "#EXTRACCIÓN DE LAS VARIABLES EN ESTUDIO DEL DATAFRAME.\n",
        "\n",
        "df_earnings[['male','earn']]"
      ],
      "metadata": {
        "colab": {
          "base_uri": "https://localhost:8080/",
          "height": 433
        },
        "id": "g4YnXKz5T-yL",
        "outputId": "bce7b4a6-a28f-4712-f8f8-ccc52cbb9763"
      },
      "execution_count": null,
      "outputs": [
        {
          "output_type": "execute_result",
          "data": {
            "text/plain": [
              "      male     earn\n",
              "0        1  50000.0\n",
              "1        0  60000.0\n",
              "2        0  30000.0\n",
              "3        0  25000.0\n",
              "4        0  50000.0\n",
              "...    ...      ...\n",
              "1811     0  15000.0\n",
              "1812     0   8000.0\n",
              "1813     1  60000.0\n",
              "1814     0  15000.0\n",
              "1815     1   6000.0\n",
              "\n",
              "[1816 rows x 2 columns]"
            ],
            "text/html": [
              "\n",
              "  <div id=\"df-9bdc6a88-7756-4168-90ef-a1a20627058e\" class=\"colab-df-container\">\n",
              "    <div>\n",
              "<style scoped>\n",
              "    .dataframe tbody tr th:only-of-type {\n",
              "        vertical-align: middle;\n",
              "    }\n",
              "\n",
              "    .dataframe tbody tr th {\n",
              "        vertical-align: top;\n",
              "    }\n",
              "\n",
              "    .dataframe thead th {\n",
              "        text-align: right;\n",
              "    }\n",
              "</style>\n",
              "<table border=\"1\" class=\"dataframe\">\n",
              "  <thead>\n",
              "    <tr style=\"text-align: right;\">\n",
              "      <th></th>\n",
              "      <th>male</th>\n",
              "      <th>earn</th>\n",
              "    </tr>\n",
              "  </thead>\n",
              "  <tbody>\n",
              "    <tr>\n",
              "      <th>0</th>\n",
              "      <td>1</td>\n",
              "      <td>50000.0</td>\n",
              "    </tr>\n",
              "    <tr>\n",
              "      <th>1</th>\n",
              "      <td>0</td>\n",
              "      <td>60000.0</td>\n",
              "    </tr>\n",
              "    <tr>\n",
              "      <th>2</th>\n",
              "      <td>0</td>\n",
              "      <td>30000.0</td>\n",
              "    </tr>\n",
              "    <tr>\n",
              "      <th>3</th>\n",
              "      <td>0</td>\n",
              "      <td>25000.0</td>\n",
              "    </tr>\n",
              "    <tr>\n",
              "      <th>4</th>\n",
              "      <td>0</td>\n",
              "      <td>50000.0</td>\n",
              "    </tr>\n",
              "    <tr>\n",
              "      <th>...</th>\n",
              "      <td>...</td>\n",
              "      <td>...</td>\n",
              "    </tr>\n",
              "    <tr>\n",
              "      <th>1811</th>\n",
              "      <td>0</td>\n",
              "      <td>15000.0</td>\n",
              "    </tr>\n",
              "    <tr>\n",
              "      <th>1812</th>\n",
              "      <td>0</td>\n",
              "      <td>8000.0</td>\n",
              "    </tr>\n",
              "    <tr>\n",
              "      <th>1813</th>\n",
              "      <td>1</td>\n",
              "      <td>60000.0</td>\n",
              "    </tr>\n",
              "    <tr>\n",
              "      <th>1814</th>\n",
              "      <td>0</td>\n",
              "      <td>15000.0</td>\n",
              "    </tr>\n",
              "    <tr>\n",
              "      <th>1815</th>\n",
              "      <td>1</td>\n",
              "      <td>6000.0</td>\n",
              "    </tr>\n",
              "  </tbody>\n",
              "</table>\n",
              "<p>1816 rows × 2 columns</p>\n",
              "</div>\n",
              "    <div class=\"colab-df-buttons\">\n",
              "\n",
              "  <div class=\"colab-df-container\">\n",
              "    <button class=\"colab-df-convert\" onclick=\"convertToInteractive('df-9bdc6a88-7756-4168-90ef-a1a20627058e')\"\n",
              "            title=\"Convert this dataframe to an interactive table.\"\n",
              "            style=\"display:none;\">\n",
              "\n",
              "  <svg xmlns=\"http://www.w3.org/2000/svg\" height=\"24px\" viewBox=\"0 -960 960 960\">\n",
              "    <path d=\"M120-120v-720h720v720H120Zm60-500h600v-160H180v160Zm220 220h160v-160H400v160Zm0 220h160v-160H400v160ZM180-400h160v-160H180v160Zm440 0h160v-160H620v160ZM180-180h160v-160H180v160Zm440 0h160v-160H620v160Z\"/>\n",
              "  </svg>\n",
              "    </button>\n",
              "\n",
              "  <style>\n",
              "    .colab-df-container {\n",
              "      display:flex;\n",
              "      gap: 12px;\n",
              "    }\n",
              "\n",
              "    .colab-df-convert {\n",
              "      background-color: #E8F0FE;\n",
              "      border: none;\n",
              "      border-radius: 50%;\n",
              "      cursor: pointer;\n",
              "      display: none;\n",
              "      fill: #1967D2;\n",
              "      height: 32px;\n",
              "      padding: 0 0 0 0;\n",
              "      width: 32px;\n",
              "    }\n",
              "\n",
              "    .colab-df-convert:hover {\n",
              "      background-color: #E2EBFA;\n",
              "      box-shadow: 0px 1px 2px rgba(60, 64, 67, 0.3), 0px 1px 3px 1px rgba(60, 64, 67, 0.15);\n",
              "      fill: #174EA6;\n",
              "    }\n",
              "\n",
              "    .colab-df-buttons div {\n",
              "      margin-bottom: 4px;\n",
              "    }\n",
              "\n",
              "    [theme=dark] .colab-df-convert {\n",
              "      background-color: #3B4455;\n",
              "      fill: #D2E3FC;\n",
              "    }\n",
              "\n",
              "    [theme=dark] .colab-df-convert:hover {\n",
              "      background-color: #434B5C;\n",
              "      box-shadow: 0px 1px 3px 1px rgba(0, 0, 0, 0.15);\n",
              "      filter: drop-shadow(0px 1px 2px rgba(0, 0, 0, 0.3));\n",
              "      fill: #FFFFFF;\n",
              "    }\n",
              "  </style>\n",
              "\n",
              "    <script>\n",
              "      const buttonEl =\n",
              "        document.querySelector('#df-9bdc6a88-7756-4168-90ef-a1a20627058e button.colab-df-convert');\n",
              "      buttonEl.style.display =\n",
              "        google.colab.kernel.accessAllowed ? 'block' : 'none';\n",
              "\n",
              "      async function convertToInteractive(key) {\n",
              "        const element = document.querySelector('#df-9bdc6a88-7756-4168-90ef-a1a20627058e');\n",
              "        const dataTable =\n",
              "          await google.colab.kernel.invokeFunction('convertToInteractive',\n",
              "                                                    [key], {});\n",
              "        if (!dataTable) return;\n",
              "\n",
              "        const docLinkHtml = 'Like what you see? Visit the ' +\n",
              "          '<a target=\"_blank\" href=https://colab.research.google.com/notebooks/data_table.ipynb>data table notebook</a>'\n",
              "          + ' to learn more about interactive tables.';\n",
              "        element.innerHTML = '';\n",
              "        dataTable['output_type'] = 'display_data';\n",
              "        await google.colab.output.renderOutput(dataTable, element);\n",
              "        const docLink = document.createElement('div');\n",
              "        docLink.innerHTML = docLinkHtml;\n",
              "        element.appendChild(docLink);\n",
              "      }\n",
              "    </script>\n",
              "  </div>\n",
              "\n",
              "\n",
              "<div id=\"df-c1d916dd-32d5-46a6-873c-e790738a3f85\">\n",
              "  <button class=\"colab-df-quickchart\" onclick=\"quickchart('df-c1d916dd-32d5-46a6-873c-e790738a3f85')\"\n",
              "            title=\"Suggest charts\"\n",
              "            style=\"display:none;\">\n",
              "\n",
              "<svg xmlns=\"http://www.w3.org/2000/svg\" height=\"24px\"viewBox=\"0 0 24 24\"\n",
              "     width=\"24px\">\n",
              "    <g>\n",
              "        <path d=\"M19 3H5c-1.1 0-2 .9-2 2v14c0 1.1.9 2 2 2h14c1.1 0 2-.9 2-2V5c0-1.1-.9-2-2-2zM9 17H7v-7h2v7zm4 0h-2V7h2v10zm4 0h-2v-4h2v4z\"/>\n",
              "    </g>\n",
              "</svg>\n",
              "  </button>\n",
              "\n",
              "<style>\n",
              "  .colab-df-quickchart {\n",
              "      --bg-color: #E8F0FE;\n",
              "      --fill-color: #1967D2;\n",
              "      --hover-bg-color: #E2EBFA;\n",
              "      --hover-fill-color: #174EA6;\n",
              "      --disabled-fill-color: #AAA;\n",
              "      --disabled-bg-color: #DDD;\n",
              "  }\n",
              "\n",
              "  [theme=dark] .colab-df-quickchart {\n",
              "      --bg-color: #3B4455;\n",
              "      --fill-color: #D2E3FC;\n",
              "      --hover-bg-color: #434B5C;\n",
              "      --hover-fill-color: #FFFFFF;\n",
              "      --disabled-bg-color: #3B4455;\n",
              "      --disabled-fill-color: #666;\n",
              "  }\n",
              "\n",
              "  .colab-df-quickchart {\n",
              "    background-color: var(--bg-color);\n",
              "    border: none;\n",
              "    border-radius: 50%;\n",
              "    cursor: pointer;\n",
              "    display: none;\n",
              "    fill: var(--fill-color);\n",
              "    height: 32px;\n",
              "    padding: 0;\n",
              "    width: 32px;\n",
              "  }\n",
              "\n",
              "  .colab-df-quickchart:hover {\n",
              "    background-color: var(--hover-bg-color);\n",
              "    box-shadow: 0 1px 2px rgba(60, 64, 67, 0.3), 0 1px 3px 1px rgba(60, 64, 67, 0.15);\n",
              "    fill: var(--button-hover-fill-color);\n",
              "  }\n",
              "\n",
              "  .colab-df-quickchart-complete:disabled,\n",
              "  .colab-df-quickchart-complete:disabled:hover {\n",
              "    background-color: var(--disabled-bg-color);\n",
              "    fill: var(--disabled-fill-color);\n",
              "    box-shadow: none;\n",
              "  }\n",
              "\n",
              "  .colab-df-spinner {\n",
              "    border: 2px solid var(--fill-color);\n",
              "    border-color: transparent;\n",
              "    border-bottom-color: var(--fill-color);\n",
              "    animation:\n",
              "      spin 1s steps(1) infinite;\n",
              "  }\n",
              "\n",
              "  @keyframes spin {\n",
              "    0% {\n",
              "      border-color: transparent;\n",
              "      border-bottom-color: var(--fill-color);\n",
              "      border-left-color: var(--fill-color);\n",
              "    }\n",
              "    20% {\n",
              "      border-color: transparent;\n",
              "      border-left-color: var(--fill-color);\n",
              "      border-top-color: var(--fill-color);\n",
              "    }\n",
              "    30% {\n",
              "      border-color: transparent;\n",
              "      border-left-color: var(--fill-color);\n",
              "      border-top-color: var(--fill-color);\n",
              "      border-right-color: var(--fill-color);\n",
              "    }\n",
              "    40% {\n",
              "      border-color: transparent;\n",
              "      border-right-color: var(--fill-color);\n",
              "      border-top-color: var(--fill-color);\n",
              "    }\n",
              "    60% {\n",
              "      border-color: transparent;\n",
              "      border-right-color: var(--fill-color);\n",
              "    }\n",
              "    80% {\n",
              "      border-color: transparent;\n",
              "      border-right-color: var(--fill-color);\n",
              "      border-bottom-color: var(--fill-color);\n",
              "    }\n",
              "    90% {\n",
              "      border-color: transparent;\n",
              "      border-bottom-color: var(--fill-color);\n",
              "    }\n",
              "  }\n",
              "</style>\n",
              "\n",
              "  <script>\n",
              "    async function quickchart(key) {\n",
              "      const quickchartButtonEl =\n",
              "        document.querySelector('#' + key + ' button');\n",
              "      quickchartButtonEl.disabled = true;  // To prevent multiple clicks.\n",
              "      quickchartButtonEl.classList.add('colab-df-spinner');\n",
              "      try {\n",
              "        const charts = await google.colab.kernel.invokeFunction(\n",
              "            'suggestCharts', [key], {});\n",
              "      } catch (error) {\n",
              "        console.error('Error during call to suggestCharts:', error);\n",
              "      }\n",
              "      quickchartButtonEl.classList.remove('colab-df-spinner');\n",
              "      quickchartButtonEl.classList.add('colab-df-quickchart-complete');\n",
              "    }\n",
              "    (() => {\n",
              "      let quickchartButtonEl =\n",
              "        document.querySelector('#df-c1d916dd-32d5-46a6-873c-e790738a3f85 button');\n",
              "      quickchartButtonEl.style.display =\n",
              "        google.colab.kernel.accessAllowed ? 'block' : 'none';\n",
              "    })();\n",
              "  </script>\n",
              "</div>\n",
              "\n",
              "    </div>\n",
              "  </div>\n"
            ],
            "application/vnd.google.colaboratory.intrinsic+json": {
              "type": "dataframe",
              "summary": "{\n  \"name\": \"df_earnings[['male','earn']]\",\n  \"rows\": 1816,\n  \"fields\": [\n    {\n      \"column\": \"male\",\n      \"properties\": {\n        \"dtype\": \"number\",\n        \"std\": 0,\n        \"min\": 0,\n        \"max\": 1,\n        \"num_unique_values\": 2,\n        \"samples\": [\n          0,\n          1\n        ],\n        \"semantic_type\": \"\",\n        \"description\": \"\"\n      }\n    },\n    {\n      \"column\": \"earn\",\n      \"properties\": {\n        \"dtype\": \"number\",\n        \"std\": 22531.76512330289,\n        \"min\": 0.0,\n        \"max\": 400000.0,\n        \"num_unique_values\": 137,\n        \"samples\": [\n          7200.0,\n          18600.0\n        ],\n        \"semantic_type\": \"\",\n        \"description\": \"\"\n      }\n    }\n  ]\n}"
            }
          },
          "metadata": {},
          "execution_count": 22
        }
      ]
    },
    {
      "cell_type": "code",
      "source": [
        "#REVISIÓN DE DATOS NULOS DE LAS VARIABLES EN ESTUDIO.\n",
        "\n",
        "df_earnings[['male','earn']].isnull().sum()"
      ],
      "metadata": {
        "colab": {
          "base_uri": "https://localhost:8080/"
        },
        "id": "-HQpV-ivVZ7f",
        "outputId": "925ee986-e1da-4630-a4b6-7b0ff4ede854"
      },
      "execution_count": null,
      "outputs": [
        {
          "output_type": "execute_result",
          "data": {
            "text/plain": [
              "male    0\n",
              "earn    0\n",
              "dtype: int64"
            ]
          },
          "metadata": {},
          "execution_count": 23
        }
      ]
    },
    {
      "cell_type": "code",
      "source": [
        "#OBTENCIÓN DE DATOS DE LAS VARIABLES EN ESTUDIO.\n",
        "\n",
        "df_earnings[['male','earn']].info()"
      ],
      "metadata": {
        "colab": {
          "base_uri": "https://localhost:8080/"
        },
        "id": "DYUcC-NhVlFo",
        "outputId": "dd1d769d-d2ed-48a7-af7b-3901f4802c8e"
      },
      "execution_count": null,
      "outputs": [
        {
          "output_type": "stream",
          "name": "stdout",
          "text": [
            "<class 'pandas.core.frame.DataFrame'>\n",
            "RangeIndex: 1816 entries, 0 to 1815\n",
            "Data columns (total 2 columns):\n",
            " #   Column  Non-Null Count  Dtype  \n",
            "---  ------  --------------  -----  \n",
            " 0   male    1816 non-null   int64  \n",
            " 1   earn    1816 non-null   float64\n",
            "dtypes: float64(1), int64(1)\n",
            "memory usage: 28.5 KB\n"
          ]
        }
      ]
    },
    {
      "cell_type": "code",
      "source": [
        "#FILTRO DE REVISIÓN PREVIA PARA LA CREACIÓN DE FUNCIÓN SOLICITADA.\n",
        "\n",
        "male_earnings = df_earnings[df_earnings['male'] == 1]['earn']\n",
        "female_earnings = df_earnings[df_earnings['male'] == 0]['earn']\n",
        "\n",
        "print(male_earnings)\n",
        "print(female_earnings)\n"
      ],
      "metadata": {
        "colab": {
          "base_uri": "https://localhost:8080/"
        },
        "id": "cRE5G7zCPn6t",
        "outputId": "b1144ef7-9cb7-48cd-ce55-ff90e3d0ba29"
      },
      "execution_count": null,
      "outputs": [
        {
          "output_type": "stream",
          "name": "stdout",
          "text": [
            "0       50000.0\n",
            "9       32000.0\n",
            "10       2000.0\n",
            "11      35000.0\n",
            "12      27000.0\n",
            "         ...   \n",
            "1807    55000.0\n",
            "1808    58000.0\n",
            "1810    19000.0\n",
            "1813    60000.0\n",
            "1815     6000.0\n",
            "Name: earn, Length: 675, dtype: float64\n",
            "1        60000.0\n",
            "2        30000.0\n",
            "3        25000.0\n",
            "4        50000.0\n",
            "5        62000.0\n",
            "          ...   \n",
            "1806    110000.0\n",
            "1809     10000.0\n",
            "1811     15000.0\n",
            "1812      8000.0\n",
            "1814     15000.0\n",
            "Name: earn, Length: 1141, dtype: float64\n"
          ]
        }
      ]
    },
    {
      "cell_type": "code",
      "source": [
        "#FUNCIÓN QUE VERIFICA SI EL GÉNERO MASCULINO PERCIBE MAYORES INGRESOS QUE EL RESTO DE LA POBLACIÓN EN ESTUDIO.\n",
        "\n",
        "\n",
        "#Cálculo de la media de los ingresos de hombres y mujeres a objeto de obtener la distinción.\n",
        "\n",
        "mean_earn_male = df_earnings[df_earnings['male'] == 1]['earn'].mean()\n",
        "mean_earn_female = df_earnings[df_earnings['male'] == 0]['earn'].mean()\n",
        "\n",
        "#Se realiza una prueba t de muestras independientes para comparar las medias de los resultados anteriores.\n",
        "\n",
        "t_stat, p_value = st.ttest_ind(df_earnings[df_earnings['male'] == 1]['earn'], df_earnings[df_earnings['male'] == 0]['earn'], equal_var=False)\n",
        "\n",
        "#Se agrega el nivel de significancia (alfa)\n",
        "\n",
        "alpha = 0.05\n",
        "\n",
        "#Comprobación si el valor P es mayor que alfa para rechazar o no la hipótesis nula.\n",
        "\n",
        "if p_value > alpha:\n",
        "    print(\"Resultado: Existe evidencia suficiente para aceptar la hipótesis nula\")\n",
        "else:\n",
        "    print(\"Resultado: No existe evidencia suficiente que permita rechazar la hipótesis nula\")\n",
        "\n",
        "#Impresión de las medias de ingresos de hombres y mujeres.\n",
        "\n",
        "print(f\"Media de ingresos de hombres: {mean_earn_male}\")\n",
        "print(f\"Media de ingresos de mujeres: {mean_earn_female}\")\n",
        "\n",
        "# Impresión del valor T y el valor P.\n",
        "\n",
        "print(f\"Valor t: {t_stat}\")\n",
        "print(f\"Valor p: {p_value}\")"
      ],
      "metadata": {
        "colab": {
          "base_uri": "https://localhost:8080/"
        },
        "id": "W2oTGESgSy_K",
        "outputId": "c64fc308-f100-4fe3-b433-f605c7fe9bc5"
      },
      "execution_count": null,
      "outputs": [
        {
          "output_type": "stream",
          "name": "stdout",
          "text": [
            "Resultado: No existe evidencia suficiente que permita rechazar la hipótesis nula\n",
            "Media de ingresos de hombres: 30105.17925925926\n",
            "Media de ingresos de mujeres: 15847.935144609992\n",
            "Valor t: 11.86459381795286\n",
            "Valor p: 2.7373648004575493e-30\n"
          ]
        }
      ]
    },
    {
      "cell_type": "markdown",
      "source": [
        "# **INTERPRETACIÓN DE LOS RESULTADOS**:\n",
        "\n",
        "\n",
        "---\n",
        "####En base a los resultados que se aportan en el dataset, no existe evidencia suficiente para rechazar la hipótesis nula. Estadísticamente, no se puede concluir una diferencia significativa entre los ingresos percibidos por el individuos de género masculino versus individuos de género femenino. Se estima que existe una diferencia significativa entre los ingresos de individuos de género masculino y femenino.\n",
        "\n",
        "\n",
        "1.   Se ha de tener en consideración que la media de ingresos para el género masculino es de aproximadamente $30.106, y la del género femenino corresponde a  15.848, aproximadamente. En base a lo anterior, se puede deducir que, en promedio, el género masculino percibe mayores ingresos que el género femenino.\n",
        "2.   En relación al valor de t, podemos visualizar que es bastante alto, y ello indicaría que la diferencia entre las medias de ingresos es alta en comparación con la variación de las muestras. Esto en consideración a que el valor de t mide las diferencias entre la media de dos muestras independientes.\n",
        "3.   En cuanto al valor de p, el arrojado por la prueba es extremadamene bajo, lo que es un indicativo de que es poco probable que la existencia de la diferencia entre ambos ingresos se debe al azar, sino más bien, que estadísticamente la diferencia es significativa. Ello si consideramos que el valor de p corresponde a la probabilidad de obtener un valor de prueba, valor de prueba que entrega t, y que supongamos que la H0 es la hipótesis verdadera y la que deseamos corroborar.\n",
        "\n",
        "####**CONCLUSIÓN**: En base al modelo creado, los datos otorgados y los resultados arrojados, podemos inferir que aún cuando queda de manifiesto la existencia de una diferencia entre los ingresos percibidos por individuos de género masculino versus género femenino, no se puede concluir, por los resultados de la prueba realizada, que existan evidencias suficientrs para rechazar la hipótesis nula, esto es, que no hayan diferencias entre los ingresos de ambos géneros en la población general, debido a su vez al sesgo de la misma."
      ],
      "metadata": {
        "id": "GRzv3TZ75fy8"
      }
    }
  ]
}